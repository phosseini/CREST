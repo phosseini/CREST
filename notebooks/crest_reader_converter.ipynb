{
 "cells": [
  {
   "cell_type": "markdown",
   "metadata": {},
   "source": [
    "# CREST Reader/Converter"
   ]
  },
  {
   "cell_type": "code",
   "execution_count": 1,
   "metadata": {},
   "outputs": [],
   "source": [
    "import os\n",
    "import ast\n",
    "import sys\n",
    "\n",
    "root_path = os.path.abspath(os.path.join(os.path.dirname(\"__file__\"), '..'))\n",
    "sys.path.insert(0, root_path)\n",
    "\n",
    "from crest import converter\n",
    "from crest import reader\n",
    "from crest.utils import crest2tacred, crest2brat\n",
    "\n",
    "from os import path\n",
    "\n",
    "converter = converter.Converter()\n",
    "reader = reader.Reader()"
   ]
  },
  {
   "cell_type": "code",
   "execution_count": 2,
   "metadata": {},
   "outputs": [
    {
     "name": "stdout",
     "output_type": "stream",
     "text": [
      "{'span1': [[136, 140]], 'span2': [[166, 177]], 'signal': []}\n",
      "['shot']:['passed away']\n",
      "There was a man in the alley named Bill\n",
      "Bill was intoxicated after a tough day at work.\n",
      "He insulted a large man with a firearm.\n",
      "The man shot Bill several times.\n",
      "Bill passed away after attempted resuscitation by the EMT's.\n"
     ]
    }
   ],
   "source": [
    "# loading a sample dataset\n",
    "# df, mis = converter.convert_semeval_2007_4()\n",
    "df, mis = converter.convert_caters()\n",
    "\n",
    "idx = 1\n",
    "print(df.iloc[idx][\"idx\"])\n",
    "print(\"{}:{}\".format(df.iloc[idx][\"span1\"], df.iloc[idx][\"span2\"]))\n",
    "print(df.iloc[idx][\"context\"])\n",
    "\n",
    "# getting text between\n",
    "spans = reader.get_left_between_right(df.iloc[idx])"
   ]
  },
  {
   "cell_type": "code",
   "execution_count": 3,
   "metadata": {},
   "outputs": [
    {
     "data": {
      "text/plain": [
       "['There was a man in the alley named Bill\\nBill was intoxicated after a tough day at work.\\nHe insulted a large man with a firearm.\\nThe man ',\n",
       " ' Bill several times.\\nBill ',\n",
       " \" after attempted resuscitation by the EMT's.\"]"
      ]
     },
     "execution_count": 3,
     "metadata": {},
     "output_type": "execute_result"
    }
   ],
   "source": [
    "spans"
   ]
  },
  {
   "cell_type": "code",
   "execution_count": 4,
   "metadata": {},
   "outputs": [
    {
     "data": {
      "text/html": [
       "<div>\n",
       "<style scoped>\n",
       "    .dataframe tbody tr th:only-of-type {\n",
       "        vertical-align: middle;\n",
       "    }\n",
       "\n",
       "    .dataframe tbody tr th {\n",
       "        vertical-align: top;\n",
       "    }\n",
       "\n",
       "    .dataframe thead th {\n",
       "        text-align: right;\n",
       "    }\n",
       "</style>\n",
       "<table border=\"1\" class=\"dataframe\">\n",
       "  <thead>\n",
       "    <tr style=\"text-align: right;\">\n",
       "      <th></th>\n",
       "      <th>original_id</th>\n",
       "      <th>span1</th>\n",
       "      <th>span2</th>\n",
       "      <th>signal</th>\n",
       "      <th>context</th>\n",
       "      <th>idx</th>\n",
       "      <th>label</th>\n",
       "      <th>source</th>\n",
       "      <th>ann_file</th>\n",
       "      <th>split</th>\n",
       "    </tr>\n",
       "  </thead>\n",
       "  <tbody>\n",
       "    <tr>\n",
       "      <th>0</th>\n",
       "      <td>R1</td>\n",
       "      <td>[resuscitation]</td>\n",
       "      <td>[passed away]</td>\n",
       "      <td>[]</td>\n",
       "      <td>There was a man in the alley named Bill\\nBill ...</td>\n",
       "      <td>{'span1': [[194, 207]], 'span2': [[166, 177]],...</td>\n",
       "      <td>0</td>\n",
       "      <td>6</td>\n",
       "      <td>test_15Oct.ann</td>\n",
       "      <td>2</td>\n",
       "    </tr>\n",
       "    <tr>\n",
       "      <th>1</th>\n",
       "      <td>R2</td>\n",
       "      <td>[shot]</td>\n",
       "      <td>[passed away]</td>\n",
       "      <td>[]</td>\n",
       "      <td>There was a man in the alley named Bill\\nBill ...</td>\n",
       "      <td>{'span1': [[136, 140]], 'span2': [[166, 177]],...</td>\n",
       "      <td>1</td>\n",
       "      <td>6</td>\n",
       "      <td>test_15Oct.ann</td>\n",
       "      <td>2</td>\n",
       "    </tr>\n",
       "  </tbody>\n",
       "</table>\n",
       "</div>"
      ],
      "text/plain": [
       "  original_id            span1          span2 signal  \\\n",
       "0          R1  [resuscitation]  [passed away]     []   \n",
       "1          R2           [shot]  [passed away]     []   \n",
       "\n",
       "                                             context  \\\n",
       "0  There was a man in the alley named Bill\\nBill ...   \n",
       "1  There was a man in the alley named Bill\\nBill ...   \n",
       "\n",
       "                                                 idx label source  \\\n",
       "0  {'span1': [[194, 207]], 'span2': [[166, 177]],...     0      6   \n",
       "1  {'span1': [[136, 140]], 'span2': [[166, 177]],...     1      6   \n",
       "\n",
       "         ann_file split  \n",
       "0  test_15Oct.ann     2  \n",
       "1  test_15Oct.ann     2  "
      ]
     },
     "execution_count": 4,
     "metadata": {},
     "output_type": "execute_result"
    }
   ],
   "source": [
    "df.head(2)"
   ]
  },
  {
   "cell_type": "markdown",
   "metadata": {},
   "source": [
    "## Convert `CREST` to `TACRED`\n",
    "TACRED is a well-known and popular dataset for relation extraction. TACRED has been used in many studies as a bechnmark for evaluating the performance of models for relation extraction. These models include but not limited to popular language models such as BERT. That is why we decided to include TACRED as one the formats that CREST can be converted to. You can find TACRED here: https://nlp.stanford.edu/projects/tacred/"
   ]
  },
  {
   "cell_type": "code",
   "execution_count": 4,
   "metadata": {},
   "outputs": [],
   "source": [
    "data, data_df = crest2tacred(df, 'df', save_json=False)"
   ]
  }
 ],
 "metadata": {
  "kernelspec": {
   "display_name": "Python [conda env:crest-env] *",
   "language": "python",
   "name": "conda-env-crest-env-py"
  },
  "language_info": {
   "codemirror_mode": {
    "name": "ipython",
    "version": 3
   },
   "file_extension": ".py",
   "mimetype": "text/x-python",
   "name": "python",
   "nbconvert_exporter": "python",
   "pygments_lexer": "ipython3",
   "version": "3.6.10"
  }
 },
 "nbformat": 4,
 "nbformat_minor": 4
}
