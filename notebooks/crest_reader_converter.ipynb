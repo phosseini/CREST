{
 "cells": [
  {
   "cell_type": "markdown",
   "metadata": {},
   "source": [
    "# CREST Reader/Converter"
   ]
  },
  {
   "cell_type": "code",
   "execution_count": 1,
   "metadata": {},
   "outputs": [],
   "source": [
    "import os\n",
    "import ast\n",
    "import sys\n",
    "\n",
    "root_path = os.path.abspath(os.path.join(os.path.dirname(\"__file__\"), '..'))\n",
    "sys.path.insert(0, root_path)\n",
    "\n",
    "from crest import reader\n",
    "from crest.crest import Converter, crest2tacred\n",
    "\n",
    "from os import path\n",
    "\n",
    "converter = Converter()\n",
    "reader = reader.Reader()"
   ]
  },
  {
   "cell_type": "code",
   "execution_count": 2,
   "metadata": {},
   "outputs": [
    {
     "name": "stdout",
     "output_type": "stream",
     "text": [
      "{'span1': [[0, 19]], 'span2': [[32, 47]], 'signal': []}\n",
      "['Habitat degradation']:['stream channels']\n",
      "Habitat degradation from within stream channels, loss of riparian vegetation, and reductions in water quality degrade and also limit the population.\n"
     ]
    }
   ],
   "source": [
    "# loading a sample dataset\n",
    "df, mis = converter.convert_semeval_2007_4()\n",
    "\n",
    "idx = 1\n",
    "print(df.iloc[idx][\"idx\"])\n",
    "print(\"{}:{}\".format(df.iloc[idx][\"span1\"], df.iloc[idx][\"span2\"]))\n",
    "print(df.iloc[idx][\"context\"])\n",
    "\n",
    "# getting text between\n",
    "spans = reader.get_left_between_right(df.iloc[idx])"
   ]
  },
  {
   "cell_type": "code",
   "execution_count": 3,
   "metadata": {},
   "outputs": [
    {
     "data": {
      "text/plain": [
       "[False,\n",
       " ' from within ',\n",
       " ', loss of riparian vegetation, and reductions in water quality degrade and also limit the population.']"
      ]
     },
     "execution_count": 3,
     "metadata": {},
     "output_type": "execute_result"
    }
   ],
   "source": [
    "spans"
   ]
  },
  {
   "cell_type": "code",
   "execution_count": 4,
   "metadata": {},
   "outputs": [
    {
     "data": {
      "text/html": [
       "<div>\n",
       "<style scoped>\n",
       "    .dataframe tbody tr th:only-of-type {\n",
       "        vertical-align: middle;\n",
       "    }\n",
       "\n",
       "    .dataframe tbody tr th {\n",
       "        vertical-align: top;\n",
       "    }\n",
       "\n",
       "    .dataframe thead th {\n",
       "        text-align: right;\n",
       "    }\n",
       "</style>\n",
       "<table border=\"1\" class=\"dataframe\">\n",
       "  <thead>\n",
       "    <tr style=\"text-align: right;\">\n",
       "      <th></th>\n",
       "      <th>global_id</th>\n",
       "      <th>original_id</th>\n",
       "      <th>span1</th>\n",
       "      <th>span2</th>\n",
       "      <th>signal</th>\n",
       "      <th>context</th>\n",
       "      <th>idx</th>\n",
       "      <th>label</th>\n",
       "      <th>direction</th>\n",
       "      <th>source</th>\n",
       "      <th>ann_file</th>\n",
       "      <th>split</th>\n",
       "    </tr>\n",
       "  </thead>\n",
       "  <tbody>\n",
       "    <tr>\n",
       "      <th>0</th>\n",
       "      <td>1</td>\n",
       "      <td>1</td>\n",
       "      <td>[tumor shrinkage]</td>\n",
       "      <td>[radiation therapy]</td>\n",
       "      <td>[]</td>\n",
       "      <td>The period of tumor shrinkage after radiation ...</td>\n",
       "      <td>{'span1': [[14, 29]], 'span2': [[36, 53]], 'si...</td>\n",
       "      <td>1</td>\n",
       "      <td>1</td>\n",
       "      <td>1</td>\n",
       "      <td></td>\n",
       "      <td>0</td>\n",
       "    </tr>\n",
       "    <tr>\n",
       "      <th>1</th>\n",
       "      <td>2</td>\n",
       "      <td>2</td>\n",
       "      <td>[Habitat degradation]</td>\n",
       "      <td>[stream channels]</td>\n",
       "      <td>[]</td>\n",
       "      <td>Habitat degradation from within stream channel...</td>\n",
       "      <td>{'span1': [[0, 19]], 'span2': [[32, 47]], 'sig...</td>\n",
       "      <td>0</td>\n",
       "      <td>1</td>\n",
       "      <td>1</td>\n",
       "      <td></td>\n",
       "      <td>0</td>\n",
       "    </tr>\n",
       "    <tr>\n",
       "      <th>2</th>\n",
       "      <td>3</td>\n",
       "      <td>3</td>\n",
       "      <td>[discomfort]</td>\n",
       "      <td>[traveling]</td>\n",
       "      <td>[]</td>\n",
       "      <td>Earplugs relieve the discomfort from traveling...</td>\n",
       "      <td>{'span1': [[21, 31]], 'span2': [[37, 46]], 'si...</td>\n",
       "      <td>1</td>\n",
       "      <td>1</td>\n",
       "      <td>1</td>\n",
       "      <td></td>\n",
       "      <td>0</td>\n",
       "    </tr>\n",
       "  </tbody>\n",
       "</table>\n",
       "</div>"
      ],
      "text/plain": [
       "   global_id original_id                  span1                span2 signal  \\\n",
       "0          1           1      [tumor shrinkage]  [radiation therapy]     []   \n",
       "1          2           2  [Habitat degradation]    [stream channels]     []   \n",
       "2          3           3           [discomfort]          [traveling]     []   \n",
       "\n",
       "                                             context  \\\n",
       "0  The period of tumor shrinkage after radiation ...   \n",
       "1  Habitat degradation from within stream channel...   \n",
       "2  Earplugs relieve the discomfort from traveling...   \n",
       "\n",
       "                                                 idx label direction source  \\\n",
       "0  {'span1': [[14, 29]], 'span2': [[36, 53]], 'si...     1         1      1   \n",
       "1  {'span1': [[0, 19]], 'span2': [[32, 47]], 'sig...     0         1      1   \n",
       "2  {'span1': [[21, 31]], 'span2': [[37, 46]], 'si...     1         1      1   \n",
       "\n",
       "  ann_file split  \n",
       "0              0  \n",
       "1              0  \n",
       "2              0  "
      ]
     },
     "execution_count": 4,
     "metadata": {},
     "output_type": "execute_result"
    }
   ],
   "source": [
    "df.head(3)"
   ]
  },
  {
   "cell_type": "markdown",
   "metadata": {},
   "source": [
    "## Convert `CREST` to `TACRED`\n",
    "TACRED is a well-known and popular dataset for relation extraction. TACRED has been used in many studies as a bechnmark for evaluating the performance of models for relation extraction. These models include but not limited to popular language models such as BERT. That is why we decided to include TACRED as one the formats that CREST can be converted to. You can find TACRED here: https://nlp.stanford.edu/projects/tacred/"
   ]
  },
  {
   "cell_type": "code",
   "execution_count": 5,
   "metadata": {},
   "outputs": [],
   "source": [
    "records, records_df, excluded_records, excluded_rows = crest2tacred(df, 'df', save_json=True)"
   ]
  },
  {
   "cell_type": "code",
   "execution_count": 8,
   "metadata": {},
   "outputs": [
    {
     "data": {
      "text/plain": [
       "{'span1_start': 3,\n",
       " 'span1_end': 5,\n",
       " 'span2_start': 6,\n",
       " 'span2_end': 8,\n",
       " 'direction': 'LEFT',\n",
       " 'span1_type': 'SPAN2',\n",
       " 'span2_type': 'SPAN1',\n",
       " 'id': '1',\n",
       " 'token': ['The ',\n",
       "  'period ',\n",
       "  'of ',\n",
       "  'tumor ',\n",
       "  'shrinkage ',\n",
       "  'after ',\n",
       "  'radiation ',\n",
       "  'therapy ',\n",
       "  'is ',\n",
       "  'often ',\n",
       "  'long ',\n",
       "  'and ',\n",
       "  'varied ',\n",
       "  '(',\n",
       "  'mean ',\n",
       "  'months',\n",
       "  ')',\n",
       "  '.'],\n",
       " 'relation': 1}"
      ]
     },
     "execution_count": 8,
     "metadata": {},
     "output_type": "execute_result"
    }
   ],
   "source": [
    "records[0]"
   ]
  },
  {
   "cell_type": "code",
   "execution_count": null,
   "metadata": {},
   "outputs": [],
   "source": []
  }
 ],
 "metadata": {
  "kernelspec": {
   "display_name": "crest",
   "language": "python",
   "name": "crest"
  },
  "language_info": {
   "codemirror_mode": {
    "name": "ipython",
    "version": 3
   },
   "file_extension": ".py",
   "mimetype": "text/x-python",
   "name": "python",
   "nbconvert_exporter": "python",
   "pygments_lexer": "ipython3",
   "version": "3.6.13"
  }
 },
 "nbformat": 4,
 "nbformat_minor": 4
}
