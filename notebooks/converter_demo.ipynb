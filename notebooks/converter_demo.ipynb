{
 "cells": [
  {
   "cell_type": "markdown",
   "metadata": {},
   "source": [
    "## Reading Causal Relations Corpora\n",
    "By: Pedram Hosseini (phosseini@gwu.edu)\n",
    "\n",
    "There have been efforts in creating various causal relation corpora and resources with different levels of granularity. These resources, even though valuable, are fairly scattered and do not follow a unified schema which makes it hard for people in the NLP community to use the generated knowledge. To alleviate this scatteredness problem, I’ve developed various helper methods in a **Converter** class to unify all of these resources into a simple and user-friendly format to make them easier to use. In the following, there is a list of current data sets which are covered in CREST:\n",
    "\n",
    "- **SemEval 2007 Task 4** - Public (source: **1**)\n",
    "- **SemEval 2010 Task 8** - Public (source: **2**)\n",
    "- **EventCausality** - Public (source: **3**)\n",
    "- **Causal-TimeBank** - Not public (source: **4**)\n",
    "- **EventStoryLine (v0.9, v1.0, v1.5)** - Public (source: **5**)\n",
    "- **CaTeRS** - Public (source: **6**)\n",
    "- **BECAUSE v2.1** - Public (source: **7**)\n",
    "- **Choice of Plausible Alternatives (COPA)** - Public (source: **8**)\n",
    "- **Penn Discourse TreeBank (PDTB) 3.0** - Not public (source: **9**)\n",
    "- **BioCause** - Public (source: **10**)\n",
    "- **Temporal and Causal Reasoning (TCR)** - Public (source: **11**)\n",
    "- **Benchmark Corpus for Adverse Drug Effects (ADE)** - Public (source: **12**)\n",
    "- **SemEval 2020 Task 5** - Public (source: **13**)\n",
    "- **Your data set?**\n",
    "\n",
    "#### JOIN US\n",
    "We invite everyone in the ML/NLP/NLU community and groups of researchers who work on causal/counterfactual relations extraction in language to contribute to this repository so that we all take a step forward in improving the quality of availbale data resources and alleviate the scatteredness issue."
   ]
  },
  {
   "cell_type": "code",
   "execution_count": 1,
   "metadata": {},
   "outputs": [],
   "source": [
    "import os\n",
    "import sys\n",
    "\n",
    "sys.path.insert(0, os.path.abspath('..') + '/src')\n",
    "\n",
    "from crest import Converter, crest2brat\n",
    "from utils import min_avg_max\n",
    "\n",
    "converter = Converter()\n",
    "total_samples = 0"
   ]
  },
  {
   "cell_type": "markdown",
   "metadata": {},
   "source": [
    "## SemEval 2007 Task 4 "
   ]
  },
  {
   "cell_type": "code",
   "execution_count": 2,
   "metadata": {
    "pycharm": {
     "name": "#%%\n"
    }
   },
   "outputs": [
    {
     "name": "stdout",
     "output_type": "stream",
     "text": [
      "samples: 1529\n",
      "mismatch: 0\n",
      "+ causal: 114\n",
      "- non-causal: 1415\n"
     ]
    }
   ],
   "source": [
    "data, mis = converter.convert_semeval_2007_4()\n",
    "total_samples += len(data)\n",
    "\n",
    "print(\"samples: \" + str(len(data)))\n",
    "print(\"mismatch: \" + str(mis))\n",
    "print(\"+ causal: {}\".format(len(data.loc[data[\"label\"] == 1])))\n",
    "print(\"- non-causal: {}\".format(len(data.loc[data[\"label\"] == 0])))\n",
    "\n",
    "# crest2brat(data, '../data/crest_brat/1')"
   ]
  },
  {
   "cell_type": "code",
   "execution_count": 3,
   "metadata": {
    "pycharm": {
     "name": "#%%\n"
    }
   },
   "outputs": [
    {
     "data": {
      "text/html": [
       "<div>\n",
       "<style scoped>\n",
       "    .dataframe tbody tr th:only-of-type {\n",
       "        vertical-align: middle;\n",
       "    }\n",
       "\n",
       "    .dataframe tbody tr th {\n",
       "        vertical-align: top;\n",
       "    }\n",
       "\n",
       "    .dataframe thead th {\n",
       "        text-align: right;\n",
       "    }\n",
       "</style>\n",
       "<table border=\"1\" class=\"dataframe\">\n",
       "  <thead>\n",
       "    <tr style=\"text-align: right;\">\n",
       "      <th></th>\n",
       "      <th>global_id</th>\n",
       "      <th>original_id</th>\n",
       "      <th>span1</th>\n",
       "      <th>span2</th>\n",
       "      <th>signal</th>\n",
       "      <th>context</th>\n",
       "      <th>idx</th>\n",
       "      <th>label</th>\n",
       "      <th>direction</th>\n",
       "      <th>source</th>\n",
       "      <th>ann_file</th>\n",
       "      <th>split</th>\n",
       "    </tr>\n",
       "  </thead>\n",
       "  <tbody>\n",
       "    <tr>\n",
       "      <th>0</th>\n",
       "      <td>1</td>\n",
       "      <td>1</td>\n",
       "      <td>[tumor shrinkage]</td>\n",
       "      <td>[radiation therapy]</td>\n",
       "      <td>[]</td>\n",
       "      <td>The period of tumor shrinkage after radiation ...</td>\n",
       "      <td>span1 14:29\\nspan2 36:53\\nsignal</td>\n",
       "      <td>1</td>\n",
       "      <td>1</td>\n",
       "      <td>1</td>\n",
       "      <td></td>\n",
       "      <td>0</td>\n",
       "    </tr>\n",
       "    <tr>\n",
       "      <th>1</th>\n",
       "      <td>2</td>\n",
       "      <td>2</td>\n",
       "      <td>[Habitat degradation]</td>\n",
       "      <td>[stream channels]</td>\n",
       "      <td>[]</td>\n",
       "      <td>Habitat degradation from within stream channel...</td>\n",
       "      <td>span1 0:19\\nspan2 32:47\\nsignal</td>\n",
       "      <td>0</td>\n",
       "      <td>1</td>\n",
       "      <td>1</td>\n",
       "      <td></td>\n",
       "      <td>0</td>\n",
       "    </tr>\n",
       "    <tr>\n",
       "      <th>2</th>\n",
       "      <td>3</td>\n",
       "      <td>3</td>\n",
       "      <td>[discomfort]</td>\n",
       "      <td>[traveling]</td>\n",
       "      <td>[]</td>\n",
       "      <td>Earplugs relieve the discomfort from traveling...</td>\n",
       "      <td>span1 21:31\\nspan2 37:46\\nsignal</td>\n",
       "      <td>1</td>\n",
       "      <td>1</td>\n",
       "      <td>1</td>\n",
       "      <td></td>\n",
       "      <td>0</td>\n",
       "    </tr>\n",
       "    <tr>\n",
       "      <th>3</th>\n",
       "      <td>4</td>\n",
       "      <td>4</td>\n",
       "      <td>[daily terror]</td>\n",
       "      <td>[antipersonnel land mines]</td>\n",
       "      <td>[]</td>\n",
       "      <td>We continue to see progress toward a world fre...</td>\n",
       "      <td>span1 55:67\\nspan2 71:95\\nsignal</td>\n",
       "      <td>1</td>\n",
       "      <td>1</td>\n",
       "      <td>1</td>\n",
       "      <td></td>\n",
       "      <td>0</td>\n",
       "    </tr>\n",
       "    <tr>\n",
       "      <th>4</th>\n",
       "      <td>5</td>\n",
       "      <td>5</td>\n",
       "      <td>[segment]</td>\n",
       "      <td>[anecdotes]</td>\n",
       "      <td>[]</td>\n",
       "      <td>The Global Warming segment starts off with two...</td>\n",
       "      <td>span1 19:26\\nspan2 53:62\\nsignal</td>\n",
       "      <td>0</td>\n",
       "      <td>1</td>\n",
       "      <td>1</td>\n",
       "      <td></td>\n",
       "      <td>0</td>\n",
       "    </tr>\n",
       "  </tbody>\n",
       "</table>\n",
       "</div>"
      ],
      "text/plain": [
       "   global_id original_id                  span1                       span2  \\\n",
       "0          1           1      [tumor shrinkage]         [radiation therapy]   \n",
       "1          2           2  [Habitat degradation]           [stream channels]   \n",
       "2          3           3           [discomfort]                 [traveling]   \n",
       "3          4           4         [daily terror]  [antipersonnel land mines]   \n",
       "4          5           5              [segment]                 [anecdotes]   \n",
       "\n",
       "  signal                                            context  \\\n",
       "0     []  The period of tumor shrinkage after radiation ...   \n",
       "1     []  Habitat degradation from within stream channel...   \n",
       "2     []  Earplugs relieve the discomfort from traveling...   \n",
       "3     []  We continue to see progress toward a world fre...   \n",
       "4     []  The Global Warming segment starts off with two...   \n",
       "\n",
       "                                idx label direction source ann_file split  \n",
       "0  span1 14:29\\nspan2 36:53\\nsignal     1         1      1              0  \n",
       "1   span1 0:19\\nspan2 32:47\\nsignal     0         1      1              0  \n",
       "2  span1 21:31\\nspan2 37:46\\nsignal     1         1      1              0  \n",
       "3  span1 55:67\\nspan2 71:95\\nsignal     1         1      1              0  \n",
       "4  span1 19:26\\nspan2 53:62\\nsignal     0         1      1              0  "
      ]
     },
     "execution_count": 3,
     "metadata": {},
     "output_type": "execute_result"
    }
   ],
   "source": [
    "data.head()"
   ]
  },
  {
   "cell_type": "code",
   "execution_count": 4,
   "metadata": {},
   "outputs": [
    {
     "name": "stdout",
     "output_type": "stream",
     "text": [
      "Avg. length: 17.521909744931328\n",
      "+++++++++++++++\n",
      "min length/id: {'len_min': 3, 'original_id': 83}\n",
      "min context: Trees grow seeds.\n",
      "+++++++++++++++\n",
      "max length/id: {'len_max': 82, 'original_id': 7}\n",
      "max context: Literary criticism is the study of literature by means of a microscopic knowledge of the language in which a book is written, of its growth from various roots, of its stages of development and the factors influencing them, of its condition in the period of this particular composition, of the writer's idiosyncrasies of thought and style in his ripening periods, of the general history and literature of his race, and of the special characteristics of his age and of his contemporary writers.\n"
     ]
    }
   ],
   "source": [
    "min_avg_max(data)"
   ]
  },
  {
   "cell_type": "markdown",
   "metadata": {},
   "source": [
    "## SemEval 2010 Task 8"
   ]
  },
  {
   "cell_type": "code",
   "execution_count": 5,
   "metadata": {
    "pycharm": {
     "name": "#%%\n"
    }
   },
   "outputs": [
    {
     "name": "stdout",
     "output_type": "stream",
     "text": [
      "samples: 10717\n",
      "mismatch: 0\n",
      "+ causal: 1331\n",
      "- non-causal: 9386\n"
     ]
    }
   ],
   "source": [
    "data, mis = converter.convert_semeval_2010_8()\n",
    "total_samples += len(data)\n",
    "\n",
    "print(\"samples: {}\".format(len(data)))\n",
    "print(\"mismatch: \" + str(mis))\n",
    "print(\"+ causal: {}\".format(len(data.loc[data[\"label\"] == 1])))\n",
    "print(\"- non-causal: {}\".format(len(data.loc[data[\"label\"] == 0])))\n",
    "\n",
    "# crest2brat(data, '../data/crest_brat/2')"
   ]
  },
  {
   "cell_type": "code",
   "execution_count": 6,
   "metadata": {
    "pycharm": {
     "name": "#%%\n"
    }
   },
   "outputs": [
    {
     "data": {
      "text/html": [
       "<div>\n",
       "<style scoped>\n",
       "    .dataframe tbody tr th:only-of-type {\n",
       "        vertical-align: middle;\n",
       "    }\n",
       "\n",
       "    .dataframe tbody tr th {\n",
       "        vertical-align: top;\n",
       "    }\n",
       "\n",
       "    .dataframe thead th {\n",
       "        text-align: right;\n",
       "    }\n",
       "</style>\n",
       "<table border=\"1\" class=\"dataframe\">\n",
       "  <thead>\n",
       "    <tr style=\"text-align: right;\">\n",
       "      <th></th>\n",
       "      <th>global_id</th>\n",
       "      <th>original_id</th>\n",
       "      <th>span1</th>\n",
       "      <th>span2</th>\n",
       "      <th>signal</th>\n",
       "      <th>context</th>\n",
       "      <th>idx</th>\n",
       "      <th>label</th>\n",
       "      <th>direction</th>\n",
       "      <th>source</th>\n",
       "      <th>ann_file</th>\n",
       "      <th>split</th>\n",
       "    </tr>\n",
       "  </thead>\n",
       "  <tbody>\n",
       "    <tr>\n",
       "      <th>0</th>\n",
       "      <td>1</td>\n",
       "      <td>1</td>\n",
       "      <td>[configuration]</td>\n",
       "      <td>[elements]</td>\n",
       "      <td>[]</td>\n",
       "      <td>The system as described above has its greatest...</td>\n",
       "      <td>span1 73:86\\nspan2 98:106\\nsignal</td>\n",
       "      <td>0</td>\n",
       "      <td>1</td>\n",
       "      <td>2</td>\n",
       "      <td></td>\n",
       "      <td>0</td>\n",
       "    </tr>\n",
       "    <tr>\n",
       "      <th>1</th>\n",
       "      <td>2</td>\n",
       "      <td>2</td>\n",
       "      <td>[child]</td>\n",
       "      <td>[cradle]</td>\n",
       "      <td>[]</td>\n",
       "      <td>The child was carefully wrapped and bound into...</td>\n",
       "      <td>span1 4:9\\nspan2 51:57\\nsignal</td>\n",
       "      <td>0</td>\n",
       "      <td>-1</td>\n",
       "      <td>2</td>\n",
       "      <td></td>\n",
       "      <td>0</td>\n",
       "    </tr>\n",
       "    <tr>\n",
       "      <th>2</th>\n",
       "      <td>3</td>\n",
       "      <td>3</td>\n",
       "      <td>[author]</td>\n",
       "      <td>[disassembler]</td>\n",
       "      <td>[]</td>\n",
       "      <td>The author of a keygen uses a disassembler to ...</td>\n",
       "      <td>span1 4:10\\nspan2 30:42\\nsignal</td>\n",
       "      <td>0</td>\n",
       "      <td>1</td>\n",
       "      <td>2</td>\n",
       "      <td></td>\n",
       "      <td>0</td>\n",
       "    </tr>\n",
       "    <tr>\n",
       "      <th>3</th>\n",
       "      <td>4</td>\n",
       "      <td>4</td>\n",
       "      <td>[ridge]</td>\n",
       "      <td>[surge]</td>\n",
       "      <td>[]</td>\n",
       "      <td>A misty ridge uprises from the surge.</td>\n",
       "      <td>span1 8:13\\nspan2 31:36\\nsignal</td>\n",
       "      <td>0</td>\n",
       "      <td>-1</td>\n",
       "      <td>2</td>\n",
       "      <td></td>\n",
       "      <td>0</td>\n",
       "    </tr>\n",
       "    <tr>\n",
       "      <th>4</th>\n",
       "      <td>5</td>\n",
       "      <td>5</td>\n",
       "      <td>[student]</td>\n",
       "      <td>[association]</td>\n",
       "      <td>[]</td>\n",
       "      <td>The student association is the voice of the un...</td>\n",
       "      <td>span1 4:11\\nspan2 12:23\\nsignal</td>\n",
       "      <td>0</td>\n",
       "      <td>0</td>\n",
       "      <td>2</td>\n",
       "      <td></td>\n",
       "      <td>0</td>\n",
       "    </tr>\n",
       "  </tbody>\n",
       "</table>\n",
       "</div>"
      ],
      "text/plain": [
       "   global_id original_id            span1           span2 signal  \\\n",
       "0          1           1  [configuration]      [elements]     []   \n",
       "1          2           2          [child]        [cradle]     []   \n",
       "2          3           3         [author]  [disassembler]     []   \n",
       "3          4           4          [ridge]         [surge]     []   \n",
       "4          5           5        [student]   [association]     []   \n",
       "\n",
       "                                             context  \\\n",
       "0  The system as described above has its greatest...   \n",
       "1  The child was carefully wrapped and bound into...   \n",
       "2  The author of a keygen uses a disassembler to ...   \n",
       "3              A misty ridge uprises from the surge.   \n",
       "4  The student association is the voice of the un...   \n",
       "\n",
       "                                 idx label direction source ann_file split  \n",
       "0  span1 73:86\\nspan2 98:106\\nsignal     0         1      2              0  \n",
       "1     span1 4:9\\nspan2 51:57\\nsignal     0        -1      2              0  \n",
       "2    span1 4:10\\nspan2 30:42\\nsignal     0         1      2              0  \n",
       "3    span1 8:13\\nspan2 31:36\\nsignal     0        -1      2              0  \n",
       "4    span1 4:11\\nspan2 12:23\\nsignal     0         0      2              0  "
      ]
     },
     "execution_count": 6,
     "metadata": {},
     "output_type": "execute_result"
    }
   ],
   "source": [
    "data.head()"
   ]
  },
  {
   "cell_type": "code",
   "execution_count": 7,
   "metadata": {
    "pycharm": {
     "name": "#%%\n"
    }
   },
   "outputs": [
    {
     "name": "stdout",
     "output_type": "stream",
     "text": [
      "Avg. length: 17.21246617523561\n",
      "+++++++++++++++\n",
      "min length/id: {'len_min': 3, 'original_id': 7587}\n",
      "min context: Trees grow seeds.\n",
      "+++++++++++++++\n",
      "max length/id: {'len_max': 85, 'original_id': 4025}\n",
      "max context: It was formerly known as How Park, possibly through the early connexion of William de Ow with the parish, and had its origin in the charter of 1200 granting William Briwere the elder chase of hare, fox, cat and wolf through all the king's land (per totam terram nostram) and warren of hares, pheasants and partridges throughout all his own lands, as also licence to inclose two coppices, one of which was situated between King's Somborne and Stockbridge and the other was called How Wood.\n"
     ]
    }
   ],
   "source": [
    "min_avg_max(data)"
   ]
  },
  {
   "cell_type": "markdown",
   "metadata": {},
   "source": [
    "## EventCausality data set"
   ]
  },
  {
   "cell_type": "code",
   "execution_count": 8,
   "metadata": {
    "pycharm": {
     "name": "#%%\n"
    }
   },
   "outputs": [
    {
     "name": "stdout",
     "output_type": "stream",
     "text": [
      "samples: 583\n",
      "mismatch: 1\n",
      "+ causal: 583\n",
      "- non-causal: 0\n"
     ]
    }
   ],
   "source": [
    "data, mis = converter.convert_event_causality()\n",
    "total_samples += len(data)\n",
    "\n",
    "print(\"samples: \" + str(len(data)))\n",
    "print(\"mismatch: \" + str(mis))\n",
    "print(\"+ causal: {}\".format(len(data.loc[data[\"label\"] == 1])))\n",
    "print(\"- non-causal: {}\".format(len(data.loc[data[\"label\"] == 0])))\n",
    "\n",
    "# crest2brat(data, '../data/crest_brat/3')"
   ]
  },
  {
   "cell_type": "code",
   "execution_count": 9,
   "metadata": {},
   "outputs": [
    {
     "data": {
      "text/html": [
       "<div>\n",
       "<style scoped>\n",
       "    .dataframe tbody tr th:only-of-type {\n",
       "        vertical-align: middle;\n",
       "    }\n",
       "\n",
       "    .dataframe tbody tr th {\n",
       "        vertical-align: top;\n",
       "    }\n",
       "\n",
       "    .dataframe thead th {\n",
       "        text-align: right;\n",
       "    }\n",
       "</style>\n",
       "<table border=\"1\" class=\"dataframe\">\n",
       "  <thead>\n",
       "    <tr style=\"text-align: right;\">\n",
       "      <th></th>\n",
       "      <th>global_id</th>\n",
       "      <th>original_id</th>\n",
       "      <th>span1</th>\n",
       "      <th>span2</th>\n",
       "      <th>signal</th>\n",
       "      <th>context</th>\n",
       "      <th>idx</th>\n",
       "      <th>label</th>\n",
       "      <th>direction</th>\n",
       "      <th>source</th>\n",
       "      <th>ann_file</th>\n",
       "      <th>split</th>\n",
       "    </tr>\n",
       "  </thead>\n",
       "  <tbody>\n",
       "    <tr>\n",
       "      <th>0</th>\n",
       "      <td>1</td>\n",
       "      <td>R_1_3_1_102010.01.13.google.china.exit</td>\n",
       "      <td>[search]</td>\n",
       "      <td>[return]</td>\n",
       "      <td>[]</td>\n",
       "      <td>Previously , a search for \" Tiananmen \" would ...</td>\n",
       "      <td>span1 15:21\\nspan2 51:57\\nsignal</td>\n",
       "      <td>1</td>\n",
       "      <td>0</td>\n",
       "      <td>3</td>\n",
       "      <td>2010.01.13.google.china.exit</td>\n",
       "      <td>1</td>\n",
       "    </tr>\n",
       "    <tr>\n",
       "      <th>1</th>\n",
       "      <td>2</td>\n",
       "      <td>C_6_4_6_102010.01.13.google.china.exit</td>\n",
       "      <td>[attacks]</td>\n",
       "      <td>[conclude]</td>\n",
       "      <td>[]</td>\n",
       "      <td>The company says the attacks \" have led us to ...</td>\n",
       "      <td>span1 21:28\\nspan2 46:54\\nsignal</td>\n",
       "      <td>1</td>\n",
       "      <td>0</td>\n",
       "      <td>3</td>\n",
       "      <td>2010.01.13.google.china.exit</td>\n",
       "      <td>1</td>\n",
       "    </tr>\n",
       "    <tr>\n",
       "      <th>2</th>\n",
       "      <td>3</td>\n",
       "      <td>C_6_10_6_142010.01.13.google.china.exit</td>\n",
       "      <td>[conclude]</td>\n",
       "      <td>[review]</td>\n",
       "      <td>[]</td>\n",
       "      <td>The company says the attacks \" have led us to ...</td>\n",
       "      <td>span1 46:54\\nspan2 70:76\\nsignal</td>\n",
       "      <td>1</td>\n",
       "      <td>0</td>\n",
       "      <td>3</td>\n",
       "      <td>2010.01.13.google.china.exit</td>\n",
       "      <td>1</td>\n",
       "    </tr>\n",
       "    <tr>\n",
       "      <th>3</th>\n",
       "      <td>4</td>\n",
       "      <td>C_12_5_12_182010.01.13.google.china.exit</td>\n",
       "      <td>[deliveries]</td>\n",
       "      <td>[interpreted]</td>\n",
       "      <td>[]</td>\n",
       "      <td>A large number of flower deliveries were made ...</td>\n",
       "      <td>span1 25:35\\nspan2 105:116\\nsignal</td>\n",
       "      <td>1</td>\n",
       "      <td>0</td>\n",
       "      <td>3</td>\n",
       "      <td>2010.01.13.google.china.exit</td>\n",
       "      <td>1</td>\n",
       "    </tr>\n",
       "    <tr>\n",
       "      <th>4</th>\n",
       "      <td>5</td>\n",
       "      <td>C_14_3_14_142010.01.13.google.china.exit</td>\n",
       "      <td>[leaves]</td>\n",
       "      <td>[advancement]</td>\n",
       "      <td>[]</td>\n",
       "      <td>\" If Google leaves China , it is likely to be ...</td>\n",
       "      <td>span1 12:18\\nspan2 57:68\\nsignal</td>\n",
       "      <td>1</td>\n",
       "      <td>0</td>\n",
       "      <td>3</td>\n",
       "      <td>2010.01.13.google.china.exit</td>\n",
       "      <td>1</td>\n",
       "    </tr>\n",
       "  </tbody>\n",
       "</table>\n",
       "</div>"
      ],
      "text/plain": [
       "   global_id                               original_id         span1  \\\n",
       "0          1    R_1_3_1_102010.01.13.google.china.exit      [search]   \n",
       "1          2    C_6_4_6_102010.01.13.google.china.exit     [attacks]   \n",
       "2          3   C_6_10_6_142010.01.13.google.china.exit    [conclude]   \n",
       "3          4  C_12_5_12_182010.01.13.google.china.exit  [deliveries]   \n",
       "4          5  C_14_3_14_142010.01.13.google.china.exit      [leaves]   \n",
       "\n",
       "           span2 signal                                            context  \\\n",
       "0       [return]     []  Previously , a search for \" Tiananmen \" would ...   \n",
       "1     [conclude]     []  The company says the attacks \" have led us to ...   \n",
       "2       [review]     []  The company says the attacks \" have led us to ...   \n",
       "3  [interpreted]     []  A large number of flower deliveries were made ...   \n",
       "4  [advancement]     []  \" If Google leaves China , it is likely to be ...   \n",
       "\n",
       "                                  idx label direction source  \\\n",
       "0    span1 15:21\\nspan2 51:57\\nsignal     1         0      3   \n",
       "1    span1 21:28\\nspan2 46:54\\nsignal     1         0      3   \n",
       "2    span1 46:54\\nspan2 70:76\\nsignal     1         0      3   \n",
       "3  span1 25:35\\nspan2 105:116\\nsignal     1         0      3   \n",
       "4    span1 12:18\\nspan2 57:68\\nsignal     1         0      3   \n",
       "\n",
       "                       ann_file split  \n",
       "0  2010.01.13.google.china.exit     1  \n",
       "1  2010.01.13.google.china.exit     1  \n",
       "2  2010.01.13.google.china.exit     1  \n",
       "3  2010.01.13.google.china.exit     1  \n",
       "4  2010.01.13.google.china.exit     1  "
      ]
     },
     "execution_count": 9,
     "metadata": {},
     "output_type": "execute_result"
    }
   ],
   "source": [
    "data.head()"
   ]
  },
  {
   "cell_type": "code",
   "execution_count": 10,
   "metadata": {},
   "outputs": [
    {
     "data": {
      "text/plain": [
       "'\" If these men are ever found , jail wo n\\'t be enough to make them pay for the way they \\'ve made us feel . \" '"
      ]
     },
     "execution_count": 10,
     "metadata": {},
     "output_type": "execute_result"
    }
   ],
   "source": [
    "data.iloc[35].context"
   ]
  },
  {
   "cell_type": "code",
   "execution_count": 11,
   "metadata": {
    "pycharm": {
     "name": "#%%\n"
    }
   },
   "outputs": [
    {
     "name": "stdout",
     "output_type": "stream",
     "text": [
      "Avg. length: 42.451114922813034\n",
      "+++++++++++++++\n",
      "min length/id: {'len_min': 11, 'original_id': 'R_10_8_10_52010.01.01.iran.moussavi'}\n",
      "min context: At least eight people were killed during those protests . \n",
      "+++++++++++++++\n",
      "max length/id: {'len_max': 202, 'original_id': 'C_3_2_11_12010.03.17.france.eta.policeman'}\n",
      "max context: French police responded to reports of car theft in a town near Paris late Tuesday and a shootout ensued with a group of alleged thieves . Most of them escaped but police captured one and he was later identified as a suspected ETA member , said the spokeswoman , who by custom is not identified .  Spanish media reported that the shootout occurred in the town of Dammarie-les-Lys .  The dead French policeman was wearing a bullet-proof vest but bullets struck fatally elsewhere on his body .  He was reported to be in his 50s , and the father of four children .  ETA has traditionally used France as its rearguard logistics and planning base to prepare attacks across the border in Spain , officials say .  But in recent years as Spain has enlisted increased cooperation from France in cracking down on ETA hideouts , there have been various exchanges of gunfire between ETA suspects and French police , wounding some officers .  Almost all of ETA 's fatal shootings and car bombings have occurred in Spain .  But in December 2007 , ETA shot dead two Spanish Civil Guards in France . \n"
     ]
    }
   ],
   "source": [
    "min_avg_max(data)"
   ]
  },
  {
   "cell_type": "markdown",
   "metadata": {},
   "source": [
    "## Causal-TimeBank"
   ]
  },
  {
   "cell_type": "code",
   "execution_count": 12,
   "metadata": {
    "pycharm": {
     "name": "#%%\n"
    }
   },
   "outputs": [
    {
     "name": "stdout",
     "output_type": "stream",
     "text": [
      "samples: 318\n",
      "mismatch: 0\n",
      "+ causal: 318\n",
      "- non-causal: 0\n"
     ]
    }
   ],
   "source": [
    "data, mis = converter.convert_causal_timebank()\n",
    "total_samples += len(data)\n",
    "\n",
    "print(\"samples: \" + str(len(data)))\n",
    "print(\"mismatch: \" + str(mis))\n",
    "print(\"+ causal: {}\".format(len(data.loc[data[\"label\"] == 1])))\n",
    "print(\"- non-causal: {}\".format(len(data.loc[data[\"label\"] == 0])))\n",
    "\n",
    "# crest2brat(data, '../data/crest_brat/4')"
   ]
  },
  {
   "cell_type": "code",
   "execution_count": 13,
   "metadata": {},
   "outputs": [
    {
     "data": {
      "text/html": [
       "<div>\n",
       "<style scoped>\n",
       "    .dataframe tbody tr th:only-of-type {\n",
       "        vertical-align: middle;\n",
       "    }\n",
       "\n",
       "    .dataframe tbody tr th {\n",
       "        vertical-align: top;\n",
       "    }\n",
       "\n",
       "    .dataframe thead th {\n",
       "        text-align: right;\n",
       "    }\n",
       "</style>\n",
       "<table border=\"1\" class=\"dataframe\">\n",
       "  <thead>\n",
       "    <tr style=\"text-align: right;\">\n",
       "      <th></th>\n",
       "      <th>global_id</th>\n",
       "      <th>original_id</th>\n",
       "      <th>span1</th>\n",
       "      <th>span2</th>\n",
       "      <th>signal</th>\n",
       "      <th>context</th>\n",
       "      <th>idx</th>\n",
       "      <th>label</th>\n",
       "      <th>direction</th>\n",
       "      <th>source</th>\n",
       "      <th>ann_file</th>\n",
       "      <th>split</th>\n",
       "    </tr>\n",
       "  </thead>\n",
       "  <tbody>\n",
       "    <tr>\n",
       "      <th>0</th>\n",
       "      <td>1</td>\n",
       "      <td>10</td>\n",
       "      <td>[was]</td>\n",
       "      <td>[thought]</td>\n",
       "      <td>[So]</td>\n",
       "      <td>Not that long ago , before the Chinese takeove...</td>\n",
       "      <td>span1 82:85\\nspan2 215:222\\nsignal 147:149</td>\n",
       "      <td>1</td>\n",
       "      <td>0</td>\n",
       "      <td>4</td>\n",
       "      <td>ABC19980108.1830.0711.xml</td>\n",
       "      <td></td>\n",
       "    </tr>\n",
       "    <tr>\n",
       "      <th>1</th>\n",
       "      <td>2</td>\n",
       "      <td>27</td>\n",
       "      <td>[downturn]</td>\n",
       "      <td>[spending]</td>\n",
       "      <td>[]</td>\n",
       "      <td>But in the past three months , stocks have plu...</td>\n",
       "      <td>span1 88:96\\nspan2 139:147\\nsignal</td>\n",
       "      <td>1</td>\n",
       "      <td>0</td>\n",
       "      <td>4</td>\n",
       "      <td>ABC19980108.1830.0711.xml</td>\n",
       "      <td></td>\n",
       "    </tr>\n",
       "    <tr>\n",
       "      <th>2</th>\n",
       "      <td>3</td>\n",
       "      <td>36</td>\n",
       "      <td>[change]</td>\n",
       "      <td>[reposition]</td>\n",
       "      <td>[So]</td>\n",
       "      <td>I think that the mood is fairly gloomy , and I...</td>\n",
       "      <td>span1 72:78\\nspan2 174:184\\nsignal 103:105</td>\n",
       "      <td>1</td>\n",
       "      <td>0</td>\n",
       "      <td>4</td>\n",
       "      <td>ABC19980108.1830.0711.xml</td>\n",
       "      <td></td>\n",
       "    </tr>\n",
       "    <tr>\n",
       "      <th>3</th>\n",
       "      <td>4</td>\n",
       "      <td>6</td>\n",
       "      <td>[rains]</td>\n",
       "      <td>[landslides]</td>\n",
       "      <td>[]</td>\n",
       "      <td>Officials in California are warning residents ...</td>\n",
       "      <td>span1 60:65\\nspan2 105:115\\nsignal</td>\n",
       "      <td>1</td>\n",
       "      <td>0</td>\n",
       "      <td>4</td>\n",
       "      <td>PRI19980213.2000.0313.xml</td>\n",
       "      <td></td>\n",
       "    </tr>\n",
       "    <tr>\n",
       "      <th>4</th>\n",
       "      <td>5</td>\n",
       "      <td>22</td>\n",
       "      <td>[rains]</td>\n",
       "      <td>[get]</td>\n",
       "      <td>[]</td>\n",
       "      <td>Forecasters say the picture will get worse bec...</td>\n",
       "      <td>span1 56:61\\nspan2 33:36\\nsignal</td>\n",
       "      <td>1</td>\n",
       "      <td>0</td>\n",
       "      <td>4</td>\n",
       "      <td>PRI19980213.2000.0313.xml</td>\n",
       "      <td></td>\n",
       "    </tr>\n",
       "  </tbody>\n",
       "</table>\n",
       "</div>"
      ],
      "text/plain": [
       "   global_id original_id       span1         span2 signal  \\\n",
       "0          1          10       [was]     [thought]   [So]   \n",
       "1          2          27  [downturn]    [spending]     []   \n",
       "2          3          36    [change]  [reposition]   [So]   \n",
       "3          4           6     [rains]  [landslides]     []   \n",
       "4          5          22     [rains]         [get]     []   \n",
       "\n",
       "                                             context  \\\n",
       "0  Not that long ago , before the Chinese takeove...   \n",
       "1  But in the past three months , stocks have plu...   \n",
       "2  I think that the mood is fairly gloomy , and I...   \n",
       "3  Officials in California are warning residents ...   \n",
       "4  Forecasters say the picture will get worse bec...   \n",
       "\n",
       "                                          idx label direction source  \\\n",
       "0  span1 82:85\\nspan2 215:222\\nsignal 147:149     1         0      4   \n",
       "1          span1 88:96\\nspan2 139:147\\nsignal     1         0      4   \n",
       "2  span1 72:78\\nspan2 174:184\\nsignal 103:105     1         0      4   \n",
       "3          span1 60:65\\nspan2 105:115\\nsignal     1         0      4   \n",
       "4            span1 56:61\\nspan2 33:36\\nsignal     1         0      4   \n",
       "\n",
       "                    ann_file split  \n",
       "0  ABC19980108.1830.0711.xml        \n",
       "1  ABC19980108.1830.0711.xml        \n",
       "2  ABC19980108.1830.0711.xml        \n",
       "3  PRI19980213.2000.0313.xml        \n",
       "4  PRI19980213.2000.0313.xml        "
      ]
     },
     "execution_count": 13,
     "metadata": {},
     "output_type": "execute_result"
    }
   ],
   "source": [
    "data.head()"
   ]
  },
  {
   "cell_type": "code",
   "execution_count": 14,
   "metadata": {
    "pycharm": {
     "name": "#%%\n"
    }
   },
   "outputs": [
    {
     "name": "stdout",
     "output_type": "stream",
     "text": [
      "Avg. length: 32.79874213836478\n",
      "+++++++++++++++\n",
      "min length/id: {'len_min': 13, 'original_id': '32'}\n",
      "min context: Iraq said the roundup was to protect them from unspecified threats ; \n",
      "+++++++++++++++\n",
      "max length/id: {'len_max': 107, 'original_id': '3'}\n",
      "max context: WASHINGTON _ Following are statements made Friday and Thursday by Lawrence Wechsler , a lawyer for the White House secretary , Betty Currie ; the White House ; White House spokesman Mike McCurry , and President Clinton in response to an article in The New York Times on Friday about her statements regarding a meeting with the president : Wechsler on Thursday \" Without commenting on the allegations raised in this article , to the extent that there is any implication or suggestion that Mrs. Currie was aware of any legal or ethical impropriety by anyone , that implication or suggestion is entirely inaccurate . \" \n"
     ]
    }
   ],
   "source": [
    "min_avg_max(data)"
   ]
  },
  {
   "cell_type": "markdown",
   "metadata": {},
   "source": [
    "## EventStoryLine"
   ]
  },
  {
   "cell_type": "code",
   "execution_count": 15,
   "metadata": {
    "pycharm": {
     "name": "#%%\n"
    }
   },
   "outputs": [
    {
     "name": "stdout",
     "output_type": "stream",
     "text": [
      "samples: 2608\n",
      "mismatch: 0\n",
      "+ causal (PRECONDITION and FALLING_ACTION): 2608\n",
      "- non-causal: 0\n"
     ]
    }
   ],
   "source": [
    "data, mis = converter.convert_eventstorylines_v1(version=\"1.5\")\n",
    "total_samples += len(data)\n",
    "\n",
    "print(\"samples: \" + str(len(data)))\n",
    "print(\"mismatch: \" + str(mis))\n",
    "print(\"+ causal (PRECONDITION and FALLING_ACTION): {}\".format(len(data.loc[data[\"label\"] == 1])))\n",
    "print(\"- non-causal: {}\".format(len(data.loc[data[\"label\"] == 0])))\n",
    "\n",
    "# crest2brat(data, '../data/crest_brat/5')"
   ]
  },
  {
   "cell_type": "code",
   "execution_count": 16,
   "metadata": {
    "pycharm": {
     "name": "#%%\n"
    }
   },
   "outputs": [
    {
     "data": {
      "text/html": [
       "<div>\n",
       "<style scoped>\n",
       "    .dataframe tbody tr th:only-of-type {\n",
       "        vertical-align: middle;\n",
       "    }\n",
       "\n",
       "    .dataframe tbody tr th {\n",
       "        vertical-align: top;\n",
       "    }\n",
       "\n",
       "    .dataframe thead th {\n",
       "        text-align: right;\n",
       "    }\n",
       "</style>\n",
       "<table border=\"1\" class=\"dataframe\">\n",
       "  <thead>\n",
       "    <tr style=\"text-align: right;\">\n",
       "      <th></th>\n",
       "      <th>global_id</th>\n",
       "      <th>original_id</th>\n",
       "      <th>span1</th>\n",
       "      <th>span2</th>\n",
       "      <th>signal</th>\n",
       "      <th>context</th>\n",
       "      <th>idx</th>\n",
       "      <th>label</th>\n",
       "      <th>direction</th>\n",
       "      <th>source</th>\n",
       "      <th>ann_file</th>\n",
       "      <th>split</th>\n",
       "    </tr>\n",
       "  </thead>\n",
       "  <tbody>\n",
       "    <tr>\n",
       "      <th>0</th>\n",
       "      <td>1</td>\n",
       "      <td>246682</td>\n",
       "      <td>[double murder]</td>\n",
       "      <td>[killing]</td>\n",
       "      <td>[]</td>\n",
       "      <td>Cumbria double murder : Son suspected of killi...</td>\n",
       "      <td>span1 8:21\\nspan2 41:48\\nsignal</td>\n",
       "      <td>1</td>\n",
       "      <td>1</td>\n",
       "      <td>5</td>\n",
       "      <td>32_11ecbplus.xml.xml</td>\n",
       "      <td></td>\n",
       "    </tr>\n",
       "    <tr>\n",
       "      <th>1</th>\n",
       "      <td>2</td>\n",
       "      <td>246683</td>\n",
       "      <td>[sectioned]</td>\n",
       "      <td>[suicide attempt]</td>\n",
       "      <td>[]</td>\n",
       "      <td>John Jenkin , 23 , had been sectioned after an...</td>\n",
       "      <td>span1 28:37\\nspan2 56:71\\nsignal</td>\n",
       "      <td>1</td>\n",
       "      <td>1</td>\n",
       "      <td>5</td>\n",
       "      <td>32_11ecbplus.xml.xml</td>\n",
       "      <td></td>\n",
       "    </tr>\n",
       "  </tbody>\n",
       "</table>\n",
       "</div>"
      ],
      "text/plain": [
       "   global_id original_id            span1              span2 signal  \\\n",
       "0          1      246682  [double murder]          [killing]     []   \n",
       "1          2      246683      [sectioned]  [suicide attempt]     []   \n",
       "\n",
       "                                             context  \\\n",
       "0  Cumbria double murder : Son suspected of killi...   \n",
       "1  John Jenkin , 23 , had been sectioned after an...   \n",
       "\n",
       "                                idx label direction source  \\\n",
       "0   span1 8:21\\nspan2 41:48\\nsignal     1         1      5   \n",
       "1  span1 28:37\\nspan2 56:71\\nsignal     1         1      5   \n",
       "\n",
       "               ann_file split  \n",
       "0  32_11ecbplus.xml.xml        \n",
       "1  32_11ecbplus.xml.xml        "
      ]
     },
     "execution_count": 16,
     "metadata": {},
     "output_type": "execute_result"
    }
   ],
   "source": [
    "data.head(2)"
   ]
  },
  {
   "cell_type": "code",
   "execution_count": 17,
   "metadata": {},
   "outputs": [],
   "source": [
    "a = data.loc[data['context'] == 'SEACOM downtime explained']\n",
    "b = data.loc[data['original_id'] == '245609']"
   ]
  },
  {
   "cell_type": "code",
   "execution_count": 18,
   "metadata": {},
   "outputs": [
    {
     "data": {
      "text/html": [
       "<div>\n",
       "<style scoped>\n",
       "    .dataframe tbody tr th:only-of-type {\n",
       "        vertical-align: middle;\n",
       "    }\n",
       "\n",
       "    .dataframe tbody tr th {\n",
       "        vertical-align: top;\n",
       "    }\n",
       "\n",
       "    .dataframe thead th {\n",
       "        text-align: right;\n",
       "    }\n",
       "</style>\n",
       "<table border=\"1\" class=\"dataframe\">\n",
       "  <thead>\n",
       "    <tr style=\"text-align: right;\">\n",
       "      <th></th>\n",
       "      <th>global_id</th>\n",
       "      <th>original_id</th>\n",
       "      <th>span1</th>\n",
       "      <th>span2</th>\n",
       "      <th>signal</th>\n",
       "      <th>context</th>\n",
       "      <th>idx</th>\n",
       "      <th>label</th>\n",
       "      <th>direction</th>\n",
       "      <th>source</th>\n",
       "      <th>ann_file</th>\n",
       "      <th>split</th>\n",
       "    </tr>\n",
       "  </thead>\n",
       "  <tbody>\n",
       "    <tr>\n",
       "      <th>1382</th>\n",
       "      <td>1383</td>\n",
       "      <td>245609</td>\n",
       "      <td>[downtime]</td>\n",
       "      <td>[explained]</td>\n",
       "      <td>[]</td>\n",
       "      <td>SEACOM downtime explained</td>\n",
       "      <td>span1 7:15\\nspan2 16:25\\nsignal</td>\n",
       "      <td>1</td>\n",
       "      <td>0</td>\n",
       "      <td>5</td>\n",
       "      <td>30_6ecbplus.xml.xml</td>\n",
       "      <td></td>\n",
       "    </tr>\n",
       "  </tbody>\n",
       "</table>\n",
       "</div>"
      ],
      "text/plain": [
       "      global_id original_id       span1        span2 signal  \\\n",
       "1382       1383      245609  [downtime]  [explained]     []   \n",
       "\n",
       "                         context                              idx label  \\\n",
       "1382  SEACOM downtime explained   span1 7:15\\nspan2 16:25\\nsignal     1   \n",
       "\n",
       "     direction source             ann_file split  \n",
       "1382         0      5  30_6ecbplus.xml.xml        "
      ]
     },
     "execution_count": 18,
     "metadata": {},
     "output_type": "execute_result"
    }
   ],
   "source": [
    "b"
   ]
  },
  {
   "cell_type": "code",
   "execution_count": 19,
   "metadata": {
    "pycharm": {
     "name": "#%%\n"
    }
   },
   "outputs": [
    {
     "name": "stdout",
     "output_type": "stream",
     "text": [
      "Avg. length: 43.20782208588957\n",
      "+++++++++++++++\n",
      "min length/id: {'len_min': 4, 'original_id': '245609'}\n",
      "min context: SEACOM downtime explained \n",
      "+++++++++++++++\n",
      "max length/id: {'len_max': 839, 'original_id': '241458'}\n",
      "max context: The Athens protest march marking the zenith of the general strike called for the 5th of May was attended by an approximate 200 , 000 ( 20 , 000 which is the foreign broadcast number referring to the PAME march alone ) , although because of lack of media coverage due to the media participation in the general strike no concrete estimates can be made . After the PAME ( Communist Party union ) protesters left Syntagma square , the first lines of the main march started arriving before the Parliament with the first clashes erupting at the end of Stadiou street . The march then walked on the Unknown Soldier grounds leading the Presidential Guard to retreat , and attempted to storm the Parliament but was pushed back by riot police forces which today demonstrated a particularly staunch attitude and resolve against the demonstrators . Soon battles erupted around the Parliament with protesters throwing Molotov cocktails and rocks , with one riot police armored van torched , and the police responding by extended use of tear gas that soon made Athens' atmosphere unbearably acrid . As more blocks reached Syntagma square , the battles spread across the city center and lasted for more than five hours . During the clashes several state buildings were set ablaze including the County Headquarters of Attika . At the time of writing the Ministry of Finance is reported to be on fire , and vital tax documents as destroyed by the raging fire . However the strange thing is that it is the fourth floor of the building that is burning , at a height inapproachable to petrol bombs . The building is in danger of total collapse . According to news reports that began at 14 : 00 Greek time after , under pressure by the events , most radio and TV stations decided to break their strike , claim that the fire at Marfin Bank's Stadiou street branch that has led to the death of three workers ( one a pregnant woman ) was started by protesters . However this remains an unsubstantiated claim . A similar case three decades ago had originally put the blame for the fire at Kappa - Marousi building on Panepistimiou street , leading to the death of several people inside , to anarchists , while its was later proved the fire was caused by tear gas fired by the police . After the tragic death of the three workers made the round of Athens , new clashes started to spread in the Greek capital , with a large crowd gathered outside the burned bank when Marfin's boss tried to visit the site . Clashes broke out between the crowd and police when the former attacked the bank magnate accusing him of forcing the dead workers to scab on a general strike and locking them in the building despite them demanding to evacuate it since 12 : 00 . In Parliament the Communist Party of Greece has accused the government for the deaths , claiming it was a result of agents provocateur fascist groups . The claims of the Communist Party are based on the fact that 50 fascists tried to enter the PAME demo bearing the flags of the union earlier in the morning . The fascists were spotted , chased and sought refuge behind riot police lines . Accusing the extreme - right as being behind the deaths , the Coalition of Radical Left has declared in Parliament that the government cannot pretend to be in grief for the loss of life , as it has been attacking human life by all means possible . Meanwhile , extended clashes broke out in Salonika where approximately 50 , 000 people marched destroying dozens of banks and corporate shops in Greece's second largest city . Clashes with the police continued for several hours . According to news broadcasts anarchist have occupied the Labour Center of the city . In Patras , around 20 , 000 protesters were joined by tractor drivers and garbage truck drivers on their vehicles , as flaming barricades were erected along central streets of the city and clashes developed between protestors and the police . In Ioannina the protesters attacked banks and corporate shops leading to extended use of chemicals by the police . In Heraklion , 10 , 000 people are reported as marching against the measures . In Corfu , protesters taking part in the anti - measures march occupied the County Headquarters . Protesters have occupied the Administrative Headquarters of Naxos and the City Hall of Naoussa . As a result of the Athens riots , the police have cordoned off the entire center of the city , erecting check points of entry and exit , while all police work permits have been recalled . At the time of writing battles continue to rage in the inner city , while news broadcasts claim the police is mobilising its forces to storm an anarchist squat in Exarcheia . \n"
     ]
    }
   ],
   "source": [
    "min_avg_max(data)"
   ]
  },
  {
   "cell_type": "markdown",
   "metadata": {},
   "source": [
    "## CaTeRS"
   ]
  },
  {
   "cell_type": "code",
   "execution_count": 20,
   "metadata": {
    "pycharm": {
     "name": "#%%\n"
    }
   },
   "outputs": [
    {
     "name": "stdout",
     "output_type": "stream",
     "text": [
      "samples: 2502\n",
      "mismatch: 0\n",
      "+ causal: 308\n",
      "- non-causal: 2194\n"
     ]
    }
   ],
   "source": [
    "data, mis = converter.convert_caters()\n",
    "total_samples += len(data)\n",
    "\n",
    "print(\"samples: \" + str(len(data)))\n",
    "print(\"mismatch: \" + str(mis))\n",
    "print(\"+ causal: {}\".format(len(data.loc[(data[\"label\"] == 1) | (data[\"label\"] == 2)])))\n",
    "print(\"- non-causal: {}\".format(len(data.loc[data[\"label\"] == 0])))\n",
    "\n",
    "# crest2brat(data, '../data/crest_brat/6')"
   ]
  },
  {
   "cell_type": "code",
   "execution_count": 21,
   "metadata": {
    "pycharm": {
     "name": "#%%\n"
    }
   },
   "outputs": [
    {
     "data": {
      "text/html": [
       "<div>\n",
       "<style scoped>\n",
       "    .dataframe tbody tr th:only-of-type {\n",
       "        vertical-align: middle;\n",
       "    }\n",
       "\n",
       "    .dataframe tbody tr th {\n",
       "        vertical-align: top;\n",
       "    }\n",
       "\n",
       "    .dataframe thead th {\n",
       "        text-align: right;\n",
       "    }\n",
       "</style>\n",
       "<table border=\"1\" class=\"dataframe\">\n",
       "  <thead>\n",
       "    <tr style=\"text-align: right;\">\n",
       "      <th></th>\n",
       "      <th>global_id</th>\n",
       "      <th>original_id</th>\n",
       "      <th>span1</th>\n",
       "      <th>span2</th>\n",
       "      <th>signal</th>\n",
       "      <th>context</th>\n",
       "      <th>idx</th>\n",
       "      <th>label</th>\n",
       "      <th>direction</th>\n",
       "      <th>source</th>\n",
       "      <th>ann_file</th>\n",
       "      <th>split</th>\n",
       "    </tr>\n",
       "  </thead>\n",
       "  <tbody>\n",
       "    <tr>\n",
       "      <th>0</th>\n",
       "      <td>1</td>\n",
       "      <td>R1</td>\n",
       "      <td>[resuscitation]</td>\n",
       "      <td>[passed away]</td>\n",
       "      <td>[]</td>\n",
       "      <td>There was a man in the alley named Bill\\nBill ...</td>\n",
       "      <td>span1 194:207\\nspan2 166:177\\nsignal</td>\n",
       "      <td>0</td>\n",
       "      <td>0</td>\n",
       "      <td>6</td>\n",
       "      <td>test_15Oct.ann</td>\n",
       "      <td>2</td>\n",
       "    </tr>\n",
       "    <tr>\n",
       "      <th>1</th>\n",
       "      <td>2</td>\n",
       "      <td>R2</td>\n",
       "      <td>[shot]</td>\n",
       "      <td>[passed away]</td>\n",
       "      <td>[]</td>\n",
       "      <td>There was a man in the alley named Bill\\nBill ...</td>\n",
       "      <td>span1 136:140\\nspan2 166:177\\nsignal</td>\n",
       "      <td>1</td>\n",
       "      <td>0</td>\n",
       "      <td>6</td>\n",
       "      <td>test_15Oct.ann</td>\n",
       "      <td>2</td>\n",
       "    </tr>\n",
       "    <tr>\n",
       "      <th>2</th>\n",
       "      <td>3</td>\n",
       "      <td>R3</td>\n",
       "      <td>[intoxicated]</td>\n",
       "      <td>[insulted]</td>\n",
       "      <td>[]</td>\n",
       "      <td>There was a man in the alley named Bill\\nBill ...</td>\n",
       "      <td>span1 49:60\\nspan2 91:99\\nsignal</td>\n",
       "      <td>1</td>\n",
       "      <td>0</td>\n",
       "      <td>6</td>\n",
       "      <td>test_15Oct.ann</td>\n",
       "      <td>2</td>\n",
       "    </tr>\n",
       "    <tr>\n",
       "      <th>3</th>\n",
       "      <td>4</td>\n",
       "      <td>R4</td>\n",
       "      <td>[insulted]</td>\n",
       "      <td>[shot]</td>\n",
       "      <td>[]</td>\n",
       "      <td>There was a man in the alley named Bill\\nBill ...</td>\n",
       "      <td>span1 91:99\\nspan2 136:140\\nsignal</td>\n",
       "      <td>1</td>\n",
       "      <td>0</td>\n",
       "      <td>6</td>\n",
       "      <td>test_15Oct.ann</td>\n",
       "      <td>2</td>\n",
       "    </tr>\n",
       "    <tr>\n",
       "      <th>4</th>\n",
       "      <td>5</td>\n",
       "      <td>R6</td>\n",
       "      <td>[ruined]</td>\n",
       "      <td>[sad]</td>\n",
       "      <td>[]</td>\n",
       "      <td>Grayson wanted to bake his brother a birthday ...</td>\n",
       "      <td>span1 192:198\\nspan2 232:235\\nsignal</td>\n",
       "      <td>1</td>\n",
       "      <td>0</td>\n",
       "      <td>6</td>\n",
       "      <td>test_15Oct.ann</td>\n",
       "      <td>2</td>\n",
       "    </tr>\n",
       "  </tbody>\n",
       "</table>\n",
       "</div>"
      ],
      "text/plain": [
       "   global_id original_id            span1          span2 signal  \\\n",
       "0          1          R1  [resuscitation]  [passed away]     []   \n",
       "1          2          R2           [shot]  [passed away]     []   \n",
       "2          3          R3    [intoxicated]     [insulted]     []   \n",
       "3          4          R4       [insulted]         [shot]     []   \n",
       "4          5          R6         [ruined]          [sad]     []   \n",
       "\n",
       "                                             context  \\\n",
       "0  There was a man in the alley named Bill\\nBill ...   \n",
       "1  There was a man in the alley named Bill\\nBill ...   \n",
       "2  There was a man in the alley named Bill\\nBill ...   \n",
       "3  There was a man in the alley named Bill\\nBill ...   \n",
       "4  Grayson wanted to bake his brother a birthday ...   \n",
       "\n",
       "                                    idx label direction source  \\\n",
       "0  span1 194:207\\nspan2 166:177\\nsignal     0         0      6   \n",
       "1  span1 136:140\\nspan2 166:177\\nsignal     1         0      6   \n",
       "2      span1 49:60\\nspan2 91:99\\nsignal     1         0      6   \n",
       "3    span1 91:99\\nspan2 136:140\\nsignal     1         0      6   \n",
       "4  span1 192:198\\nspan2 232:235\\nsignal     1         0      6   \n",
       "\n",
       "         ann_file split  \n",
       "0  test_15Oct.ann     2  \n",
       "1  test_15Oct.ann     2  \n",
       "2  test_15Oct.ann     2  \n",
       "3  test_15Oct.ann     2  \n",
       "4  test_15Oct.ann     2  "
      ]
     },
     "execution_count": 21,
     "metadata": {},
     "output_type": "execute_result"
    }
   ],
   "source": [
    "data.head()"
   ]
  },
  {
   "cell_type": "code",
   "execution_count": 22,
   "metadata": {
    "pycharm": {
     "name": "#%%\n"
    }
   },
   "outputs": [
    {
     "name": "stdout",
     "output_type": "stream",
     "text": [
      "Avg. length: 42.48760991207035\n",
      "+++++++++++++++\n",
      "min length/id: {'len_min': 20, 'original_id': 'R90'}\n",
      "min context: Billy felt lonely in school.\n",
      "He had no friends.\n",
      "One day, a new kid came to school.\n",
      "They instantly became friends.\n",
      "They became inseparable.\n",
      "+++++++++++++++\n",
      "max length/id: {'len_max': 65, 'original_id': 'R123'}\n",
      "max context: My mother's cat was ill, so my brother took it to the vet for her.\n",
      "They said the cat needed to stay there for some tests.\n",
      "They called my brother an hour later, telling him to come pick it up.\n",
      "When he got there, the girl at the front desk said the cat had died!\n",
      "Later that day, she called to say she was mistaken, the cat was fine.\n"
     ]
    }
   ],
   "source": [
    "min_avg_max(data)"
   ]
  },
  {
   "cell_type": "markdown",
   "metadata": {},
   "source": [
    "## BECAUSE v2.1\n",
    "\n",
    "Since the raw text files for **PTB** and **NYT** need LDC subscription, these file have not been covered in our data reader yet. Once we have access to the raw files from these data resources, we will write the proper data readers for them."
   ]
  },
  {
   "cell_type": "code",
   "execution_count": null,
   "metadata": {
    "pycharm": {
     "name": "#%%\n"
    },
    "scrolled": false
   },
   "outputs": [],
   "source": [
    "# Running this cell may take a while because it uses spaCy (spacy.load(\"en_core_web_sm\")) for processing documents.\n",
    "\n",
    "data, mis = converter.convert_because()\n",
    "total_samples += len(data)\n",
    "\n",
    "print(\"samples: \" + str(len(data)))\n",
    "print(\"mismatch: \" + str(mis))\n",
    "print(\"+ causal: {}\".format(len(data.loc[(data[\"label\"] == 1) | (data[\"label\"] == 2)])))\n",
    "print(\"- non-causal: {}\".format(len(data.loc[data[\"label\"] == 0])))\n",
    "\n",
    "# crest2brat(data, '../data/crest_brat/7')"
   ]
  },
  {
   "cell_type": "code",
   "execution_count": null,
   "metadata": {
    "pycharm": {
     "name": "#%%\n"
    }
   },
   "outputs": [],
   "source": [
    "data.head()"
   ]
  },
  {
   "cell_type": "code",
   "execution_count": 38,
   "metadata": {
    "pycharm": {
     "name": "#%%\n"
    }
   },
   "outputs": [
    {
     "name": "stdout",
     "output_type": "stream",
     "text": [
      "Avg. length: 32.358024691358025\n",
      "+++++++++++++++\n",
      "min length: 3\n",
      "min context: so why\n",
      "not? \n",
      "+++++++++++++++\n",
      "max length: 84\n",
      "max context: I think this is an important task, and there's a great deal of agreement, that we should be moving to empower the Federal Reserve to have regulatory authority over a wide range of financial institutions in recognition in part of the fact that they have a systemic impact and that the current situation puts the Fed in an untenable position of being given a set of expectations to respond when it doesn't have the full panoply of tools to respond.\n",
      "    \n"
     ]
    }
   ],
   "source": [
    "min_avg_max(data)"
   ]
  },
  {
   "cell_type": "markdown",
   "metadata": {},
   "source": [
    "## Choice of Plausible Alternatives (COPA)"
   ]
  },
  {
   "cell_type": "code",
   "execution_count": 23,
   "metadata": {},
   "outputs": [
    {
     "name": "stdout",
     "output_type": "stream",
     "text": [
      "samples: 2000\n",
      "mismatch: 0\n",
      "+ causal: 1000\n",
      "- non-causal: 1000\n"
     ]
    }
   ],
   "source": [
    "data, mis = converter.convert_copa(dataset_code=2)\n",
    "total_samples += len(data)\n",
    "\n",
    "print(\"samples: \" + str(len(data)))\n",
    "print(\"mismatch: \" + str(mis))\n",
    "print(\"+ causal: {}\".format(len(data.loc[data[\"label\"] == 1])))\n",
    "print(\"- non-causal: {}\".format(len(data.loc[data[\"label\"] == 0])))"
   ]
  },
  {
   "cell_type": "code",
   "execution_count": 24,
   "metadata": {},
   "outputs": [
    {
     "data": {
      "text/html": [
       "<div>\n",
       "<style scoped>\n",
       "    .dataframe tbody tr th:only-of-type {\n",
       "        vertical-align: middle;\n",
       "    }\n",
       "\n",
       "    .dataframe tbody tr th {\n",
       "        vertical-align: top;\n",
       "    }\n",
       "\n",
       "    .dataframe thead th {\n",
       "        text-align: right;\n",
       "    }\n",
       "</style>\n",
       "<table border=\"1\" class=\"dataframe\">\n",
       "  <thead>\n",
       "    <tr style=\"text-align: right;\">\n",
       "      <th></th>\n",
       "      <th>global_id</th>\n",
       "      <th>original_id</th>\n",
       "      <th>span1</th>\n",
       "      <th>span2</th>\n",
       "      <th>signal</th>\n",
       "      <th>context</th>\n",
       "      <th>idx</th>\n",
       "      <th>label</th>\n",
       "      <th>direction</th>\n",
       "      <th>source</th>\n",
       "      <th>ann_file</th>\n",
       "      <th>split</th>\n",
       "    </tr>\n",
       "  </thead>\n",
       "  <tbody>\n",
       "    <tr>\n",
       "      <th>0</th>\n",
       "      <td>1</td>\n",
       "      <td>1501</td>\n",
       "      <td>[The item was packaged in bubble wrap.]</td>\n",
       "      <td>[It was fragile.]</td>\n",
       "      <td>[]</td>\n",
       "      <td>The item was packaged in bubble wrap. It was f...</td>\n",
       "      <td>span1 0:37\\nspan2 38:53\\nsignal</td>\n",
       "      <td>1</td>\n",
       "      <td>1</td>\n",
       "      <td>8</td>\n",
       "      <td>BCOPA-CE.xml</td>\n",
       "      <td>2</td>\n",
       "    </tr>\n",
       "    <tr>\n",
       "      <th>1</th>\n",
       "      <td>2</td>\n",
       "      <td>1501</td>\n",
       "      <td>[The item was packaged in bubble wrap.]</td>\n",
       "      <td>[It arrived at its destination intact.]</td>\n",
       "      <td>[]</td>\n",
       "      <td>The item was packaged in bubble wrap. It arriv...</td>\n",
       "      <td>span1 0:37\\nspan2 38:75\\nsignal</td>\n",
       "      <td>0</td>\n",
       "      <td>1</td>\n",
       "      <td>8</td>\n",
       "      <td>BCOPA-CE.xml</td>\n",
       "      <td>2</td>\n",
       "    </tr>\n",
       "    <tr>\n",
       "      <th>2</th>\n",
       "      <td>3</td>\n",
       "      <td>1502</td>\n",
       "      <td>[I emptied my pockets.]</td>\n",
       "      <td>[I retrieved a ticket stub.]</td>\n",
       "      <td>[]</td>\n",
       "      <td>I emptied my pockets. I retrieved a ticket stub.</td>\n",
       "      <td>span1 0:21\\nspan2 22:48\\nsignal</td>\n",
       "      <td>1</td>\n",
       "      <td>0</td>\n",
       "      <td>8</td>\n",
       "      <td>BCOPA-CE.xml</td>\n",
       "      <td>2</td>\n",
       "    </tr>\n",
       "    <tr>\n",
       "      <th>3</th>\n",
       "      <td>4</td>\n",
       "      <td>1502</td>\n",
       "      <td>[I emptied my pockets.]</td>\n",
       "      <td>[I lost my keys.]</td>\n",
       "      <td>[]</td>\n",
       "      <td>I emptied my pockets. I lost my keys.</td>\n",
       "      <td>span1 0:21\\nspan2 22:37\\nsignal</td>\n",
       "      <td>0</td>\n",
       "      <td>0</td>\n",
       "      <td>8</td>\n",
       "      <td>BCOPA-CE.xml</td>\n",
       "      <td>2</td>\n",
       "    </tr>\n",
       "    <tr>\n",
       "      <th>4</th>\n",
       "      <td>5</td>\n",
       "      <td>1503</td>\n",
       "      <td>[Termites invaded the house.]</td>\n",
       "      <td>[The termites ate through the wood in the house.]</td>\n",
       "      <td>[]</td>\n",
       "      <td>Termites invaded the house. The termites ate t...</td>\n",
       "      <td>span1 0:27\\nspan2 28:75\\nsignal</td>\n",
       "      <td>1</td>\n",
       "      <td>0</td>\n",
       "      <td>8</td>\n",
       "      <td>BCOPA-CE.xml</td>\n",
       "      <td>2</td>\n",
       "    </tr>\n",
       "  </tbody>\n",
       "</table>\n",
       "</div>"
      ],
      "text/plain": [
       "   global_id original_id                                    span1  \\\n",
       "0          1        1501  [The item was packaged in bubble wrap.]   \n",
       "1          2        1501  [The item was packaged in bubble wrap.]   \n",
       "2          3        1502                  [I emptied my pockets.]   \n",
       "3          4        1502                  [I emptied my pockets.]   \n",
       "4          5        1503            [Termites invaded the house.]   \n",
       "\n",
       "                                               span2 signal  \\\n",
       "0                                  [It was fragile.]     []   \n",
       "1            [It arrived at its destination intact.]     []   \n",
       "2                       [I retrieved a ticket stub.]     []   \n",
       "3                                  [I lost my keys.]     []   \n",
       "4  [The termites ate through the wood in the house.]     []   \n",
       "\n",
       "                                             context  \\\n",
       "0  The item was packaged in bubble wrap. It was f...   \n",
       "1  The item was packaged in bubble wrap. It arriv...   \n",
       "2   I emptied my pockets. I retrieved a ticket stub.   \n",
       "3              I emptied my pockets. I lost my keys.   \n",
       "4  Termites invaded the house. The termites ate t...   \n",
       "\n",
       "                               idx label direction source      ann_file split  \n",
       "0  span1 0:37\\nspan2 38:53\\nsignal     1         1      8  BCOPA-CE.xml     2  \n",
       "1  span1 0:37\\nspan2 38:75\\nsignal     0         1      8  BCOPA-CE.xml     2  \n",
       "2  span1 0:21\\nspan2 22:48\\nsignal     1         0      8  BCOPA-CE.xml     2  \n",
       "3  span1 0:21\\nspan2 22:37\\nsignal     0         0      8  BCOPA-CE.xml     2  \n",
       "4  span1 0:27\\nspan2 28:75\\nsignal     1         0      8  BCOPA-CE.xml     2  "
      ]
     },
     "execution_count": 24,
     "metadata": {},
     "output_type": "execute_result"
    }
   ],
   "source": [
    "data.head()"
   ]
  },
  {
   "cell_type": "markdown",
   "metadata": {},
   "source": [
    "## Penn Discourse Treebank (PDTB 3.0)"
   ]
  },
  {
   "cell_type": "code",
   "execution_count": null,
   "metadata": {},
   "outputs": [],
   "source": [
    "# Running this cell may take a while because it uses spaCy (spacy.load(\"en_core_web_sm\")) for processing documents.\n",
    "\n",
    "data, mis = converter.convert_pdtb3()\n",
    "total_samples += len(data)\n",
    "\n",
    "print(\"samples: \" + str(len(data)))\n",
    "print(\"mismatch: \" + str(mis))\n",
    "print(\"+ causal: {}\".format(len(data.loc[data[\"label\"] == 1])))\n",
    "print(\"- non-causal: {}\".format(len(data.loc[data[\"label\"] == 0])))"
   ]
  },
  {
   "cell_type": "code",
   "execution_count": null,
   "metadata": {},
   "outputs": [],
   "source": [
    "data.head()"
   ]
  },
  {
   "cell_type": "markdown",
   "metadata": {},
   "source": [
    "## BioCause"
   ]
  },
  {
   "cell_type": "code",
   "execution_count": 15,
   "metadata": {},
   "outputs": [
    {
     "name": "stdout",
     "output_type": "stream",
     "text": [
      "[crest-log] Error in converting BioCause. Detail: \n",
      "samples: 844\n",
      "mismatch: 0\n",
      "+ causal: 844\n",
      "- non-causal: 0\n"
     ]
    }
   ],
   "source": [
    "data, mis = converter.convert_biocause()\n",
    "total_samples += len(data)\n",
    "\n",
    "print(\"samples: \" + str(len(data)))\n",
    "print(\"mismatch: \" + str(mis))\n",
    "print(\"+ causal: {}\".format(len(data.loc[data[\"label\"] == 1])))\n",
    "print(\"- non-causal: {}\".format(len(data.loc[data[\"label\"] == 0])))"
   ]
  },
  {
   "cell_type": "code",
   "execution_count": 16,
   "metadata": {},
   "outputs": [
    {
     "data": {
      "text/html": [
       "<div>\n",
       "<style scoped>\n",
       "    .dataframe tbody tr th:only-of-type {\n",
       "        vertical-align: middle;\n",
       "    }\n",
       "\n",
       "    .dataframe tbody tr th {\n",
       "        vertical-align: top;\n",
       "    }\n",
       "\n",
       "    .dataframe thead th {\n",
       "        text-align: right;\n",
       "    }\n",
       "</style>\n",
       "<table border=\"1\" class=\"dataframe\">\n",
       "  <thead>\n",
       "    <tr style=\"text-align: right;\">\n",
       "      <th></th>\n",
       "      <th>global_id</th>\n",
       "      <th>original_id</th>\n",
       "      <th>span1</th>\n",
       "      <th>span2</th>\n",
       "      <th>signal</th>\n",
       "      <th>context</th>\n",
       "      <th>idx</th>\n",
       "      <th>label</th>\n",
       "      <th>direction</th>\n",
       "      <th>source</th>\n",
       "      <th>ann_file</th>\n",
       "      <th>split</th>\n",
       "    </tr>\n",
       "  </thead>\n",
       "  <tbody>\n",
       "    <tr>\n",
       "      <th>0</th>\n",
       "      <td>1</td>\n",
       "      <td></td>\n",
       "      <td>[Each paired reaction set (TB/PA14) resulted i...</td>\n",
       "      <td>[there is little difference between the two is...</td>\n",
       "      <td>[These results show that]</td>\n",
       "      <td>Characterization of the cheB2 Mutant \\nWe chos...</td>\n",
       "      <td>span1 836:954\\nspan2 997:1131\\nsignal 973:996</td>\n",
       "      <td>1</td>\n",
       "      <td>0</td>\n",
       "      <td>10</td>\n",
       "      <td>PMC2714965-02-Results-05.ann</td>\n",
       "      <td>0</td>\n",
       "    </tr>\n",
       "    <tr>\n",
       "      <th>1</th>\n",
       "      <td>2</td>\n",
       "      <td></td>\n",
       "      <td>[As shown in Figure 3A, the newly engineered c...</td>\n",
       "      <td>[a delayed C. elegans killing comparable to th...</td>\n",
       "      <td>[showed]</td>\n",
       "      <td>Characterization of the cheB2 Mutant \\nWe chos...</td>\n",
       "      <td>span1 1377:1467\\nspan2 1468:1558\\nsignal 1461:...</td>\n",
       "      <td>1</td>\n",
       "      <td>0</td>\n",
       "      <td>10</td>\n",
       "      <td>PMC2714965-02-Results-05.ann</td>\n",
       "      <td>0</td>\n",
       "    </tr>\n",
       "    <tr>\n",
       "      <th>2</th>\n",
       "      <td>3</td>\n",
       "      <td></td>\n",
       "      <td>[In addition, we engineered a similar cheB2 mu...</td>\n",
       "      <td>[the virulence phenotype of a cheB2 mutant and...</td>\n",
       "      <td>[This further confirmed]</td>\n",
       "      <td>Characterization of the cheB2 Mutant \\nWe chos...</td>\n",
       "      <td>span1 1692:1882\\nspan2 1919:2016\\nsignal 1896:...</td>\n",
       "      <td>1</td>\n",
       "      <td>0</td>\n",
       "      <td>10</td>\n",
       "      <td>PMC2714965-02-Results-05.ann</td>\n",
       "      <td>0</td>\n",
       "    </tr>\n",
       "  </tbody>\n",
       "</table>\n",
       "</div>"
      ],
      "text/plain": [
       "   global_id original_id                                              span1  \\\n",
       "0          1              [Each paired reaction set (TB/PA14) resulted i...   \n",
       "1          2              [As shown in Figure 3A, the newly engineered c...   \n",
       "2          3              [In addition, we engineered a similar cheB2 mu...   \n",
       "\n",
       "                                               span2  \\\n",
       "0  [there is little difference between the two is...   \n",
       "1  [a delayed C. elegans killing comparable to th...   \n",
       "2  [the virulence phenotype of a cheB2 mutant and...   \n",
       "\n",
       "                      signal  \\\n",
       "0  [These results show that]   \n",
       "1                   [showed]   \n",
       "2   [This further confirmed]   \n",
       "\n",
       "                                             context  \\\n",
       "0  Characterization of the cheB2 Mutant \\nWe chos...   \n",
       "1  Characterization of the cheB2 Mutant \\nWe chos...   \n",
       "2  Characterization of the cheB2 Mutant \\nWe chos...   \n",
       "\n",
       "                                                 idx label direction source  \\\n",
       "0      span1 836:954\\nspan2 997:1131\\nsignal 973:996     1         0     10   \n",
       "1  span1 1377:1467\\nspan2 1468:1558\\nsignal 1461:...     1         0     10   \n",
       "2  span1 1692:1882\\nspan2 1919:2016\\nsignal 1896:...     1         0     10   \n",
       "\n",
       "                       ann_file split  \n",
       "0  PMC2714965-02-Results-05.ann     0  \n",
       "1  PMC2714965-02-Results-05.ann     0  \n",
       "2  PMC2714965-02-Results-05.ann     0  "
      ]
     },
     "execution_count": 16,
     "metadata": {},
     "output_type": "execute_result"
    }
   ],
   "source": [
    "data.head(3)"
   ]
  },
  {
   "cell_type": "code",
   "execution_count": 10,
   "metadata": {},
   "outputs": [],
   "source": [
    "crest2brat(data, 'biocause')"
   ]
  },
  {
   "cell_type": "markdown",
   "metadata": {},
   "source": [
    "## Temporal and Causal Reasoning (TCR)"
   ]
  },
  {
   "cell_type": "code",
   "execution_count": 11,
   "metadata": {},
   "outputs": [
    {
     "name": "stdout",
     "output_type": "stream",
     "text": [
      "samples: 172\n",
      "mismatch: 0\n",
      "+ causal: 172\n",
      "- non-causal: 0\n"
     ]
    }
   ],
   "source": [
    "data, mis = converter.convert_tcr()\n",
    "total_samples += len(data)\n",
    "\n",
    "print(\"samples: \" + str(len(data)))\n",
    "print(\"mismatch: \" + str(mis))\n",
    "print(\"+ causal: {}\".format(len(data.loc[data[\"label\"] == 1])))\n",
    "print(\"- non-causal: {}\".format(len(data.loc[data[\"label\"] == 0])))"
   ]
  },
  {
   "cell_type": "code",
   "execution_count": 12,
   "metadata": {},
   "outputs": [
    {
     "data": {
      "text/html": [
       "<div>\n",
       "<style scoped>\n",
       "    .dataframe tbody tr th:only-of-type {\n",
       "        vertical-align: middle;\n",
       "    }\n",
       "\n",
       "    .dataframe tbody tr th {\n",
       "        vertical-align: top;\n",
       "    }\n",
       "\n",
       "    .dataframe thead th {\n",
       "        text-align: right;\n",
       "    }\n",
       "</style>\n",
       "<table border=\"1\" class=\"dataframe\">\n",
       "  <thead>\n",
       "    <tr style=\"text-align: right;\">\n",
       "      <th></th>\n",
       "      <th>original_id</th>\n",
       "      <th>span1</th>\n",
       "      <th>span2</th>\n",
       "      <th>signal</th>\n",
       "      <th>context</th>\n",
       "      <th>idx</th>\n",
       "      <th>label</th>\n",
       "      <th>direction</th>\n",
       "      <th>source</th>\n",
       "      <th>ann_file</th>\n",
       "      <th>split</th>\n",
       "    </tr>\n",
       "  </thead>\n",
       "  <tbody>\n",
       "    <tr>\n",
       "      <th>0</th>\n",
       "      <td></td>\n",
       "      <td>[addressed]</td>\n",
       "      <td>[killed]</td>\n",
       "      <td>[]</td>\n",
       "      <td>\\nMir Hossein Moussavi, the reformist Iranian ...</td>\n",
       "      <td>span1 204:213\\nspan2 292:298\\nsignal</td>\n",
       "      <td>1</td>\n",
       "      <td>1</td>\n",
       "      <td>11</td>\n",
       "      <td>2010.01.01.iran.moussavi.tml</td>\n",
       "      <td>1</td>\n",
       "    </tr>\n",
       "    <tr>\n",
       "      <th>1</th>\n",
       "      <td></td>\n",
       "      <td>[killed]</td>\n",
       "      <td>[denies]</td>\n",
       "      <td>[]</td>\n",
       "      <td>\\nMir Hossein Moussavi, the reformist Iranian ...</td>\n",
       "      <td>span1 292:298\\nspan2 422:428\\nsignal</td>\n",
       "      <td>1</td>\n",
       "      <td>0</td>\n",
       "      <td>11</td>\n",
       "      <td>2010.01.01.iran.moussavi.tml</td>\n",
       "      <td>1</td>\n",
       "    </tr>\n",
       "    <tr>\n",
       "      <th>2</th>\n",
       "      <td></td>\n",
       "      <td>[stop]</td>\n",
       "      <td>[making]</td>\n",
       "      <td>[]</td>\n",
       "      <td>\\nMir Hossein Moussavi, the reformist Iranian ...</td>\n",
       "      <td>span1 1733:1737\\nspan2 1753:1759\\nsignal</td>\n",
       "      <td>1</td>\n",
       "      <td>0</td>\n",
       "      <td>11</td>\n",
       "      <td>2010.01.01.iran.moussavi.tml</td>\n",
       "      <td>1</td>\n",
       "    </tr>\n",
       "  </tbody>\n",
       "</table>\n",
       "</div>"
      ],
      "text/plain": [
       "  original_id        span1     span2 signal  \\\n",
       "0              [addressed]  [killed]     []   \n",
       "1                 [killed]  [denies]     []   \n",
       "2                   [stop]  [making]     []   \n",
       "\n",
       "                                             context  \\\n",
       "0  \\nMir Hossein Moussavi, the reformist Iranian ...   \n",
       "1  \\nMir Hossein Moussavi, the reformist Iranian ...   \n",
       "2  \\nMir Hossein Moussavi, the reformist Iranian ...   \n",
       "\n",
       "                                        idx label direction source  \\\n",
       "0      span1 204:213\\nspan2 292:298\\nsignal     1         1     11   \n",
       "1      span1 292:298\\nspan2 422:428\\nsignal     1         0     11   \n",
       "2  span1 1733:1737\\nspan2 1753:1759\\nsignal     1         0     11   \n",
       "\n",
       "                       ann_file split  \n",
       "0  2010.01.01.iran.moussavi.tml     1  \n",
       "1  2010.01.01.iran.moussavi.tml     1  \n",
       "2  2010.01.01.iran.moussavi.tml     1  "
      ]
     },
     "execution_count": 12,
     "metadata": {},
     "output_type": "execute_result"
    }
   ],
   "source": [
    "data.head(3)"
   ]
  },
  {
   "cell_type": "markdown",
   "metadata": {},
   "source": [
    "## Benchmark Corpus for Adverse Drug Effects (ADE)"
   ]
  },
  {
   "cell_type": "code",
   "execution_count": 8,
   "metadata": {},
   "outputs": [
    {
     "name": "stdout",
     "output_type": "stream",
     "text": [
      "samples: 5671\n",
      "mismatch: 0\n",
      "+ causal: 5671\n",
      "- non-causal: 0\n"
     ]
    }
   ],
   "source": [
    "data, mis = converter.convert_ade()\n",
    "total_samples += len(data)\n",
    "\n",
    "print(\"samples: \" + str(len(data)))\n",
    "print(\"mismatch: \" + str(mis))\n",
    "print(\"+ causal: {}\".format(len(data.loc[data[\"label\"] == 1])))\n",
    "print(\"- non-causal: {}\".format(len(data.loc[data[\"label\"] == 0])))"
   ]
  },
  {
   "cell_type": "code",
   "execution_count": 9,
   "metadata": {},
   "outputs": [
    {
     "data": {
      "text/html": [
       "<div>\n",
       "<style scoped>\n",
       "    .dataframe tbody tr th:only-of-type {\n",
       "        vertical-align: middle;\n",
       "    }\n",
       "\n",
       "    .dataframe tbody tr th {\n",
       "        vertical-align: top;\n",
       "    }\n",
       "\n",
       "    .dataframe thead th {\n",
       "        text-align: right;\n",
       "    }\n",
       "</style>\n",
       "<table border=\"1\" class=\"dataframe\">\n",
       "  <thead>\n",
       "    <tr style=\"text-align: right;\">\n",
       "      <th></th>\n",
       "      <th>original_id</th>\n",
       "      <th>span1</th>\n",
       "      <th>span2</th>\n",
       "      <th>signal</th>\n",
       "      <th>context</th>\n",
       "      <th>idx</th>\n",
       "      <th>label</th>\n",
       "      <th>direction</th>\n",
       "      <th>source</th>\n",
       "      <th>ann_file</th>\n",
       "      <th>split</th>\n",
       "    </tr>\n",
       "  </thead>\n",
       "  <tbody>\n",
       "    <tr>\n",
       "      <th>0</th>\n",
       "      <td></td>\n",
       "      <td>[azithromycin]</td>\n",
       "      <td>[ototoxicity]</td>\n",
       "      <td>[]</td>\n",
       "      <td>Intravenous azithromycin-induced ototoxicity.\\...</td>\n",
       "      <td>span1 12:24\\nspan2 33:44\\nsignal</td>\n",
       "      <td>1</td>\n",
       "      <td>0</td>\n",
       "      <td>12</td>\n",
       "      <td></td>\n",
       "      <td>0</td>\n",
       "    </tr>\n",
       "    <tr>\n",
       "      <th>1</th>\n",
       "      <td></td>\n",
       "      <td>[dihydrotachysterol]</td>\n",
       "      <td>[increased calcium-release]</td>\n",
       "      <td>[]</td>\n",
       "      <td>Unaccountable severe hypercalcemia in a patien...</td>\n",
       "      <td>span1 898:916\\nspan2 950:975\\nsignal</td>\n",
       "      <td>1</td>\n",
       "      <td>0</td>\n",
       "      <td>12</td>\n",
       "      <td></td>\n",
       "      <td>0</td>\n",
       "    </tr>\n",
       "    <tr>\n",
       "      <th>2</th>\n",
       "      <td></td>\n",
       "      <td>[hypercalcemia]</td>\n",
       "      <td>[dihydrotachysterol]</td>\n",
       "      <td>[]</td>\n",
       "      <td>Unaccountable severe hypercalcemia in a patien...</td>\n",
       "      <td>span1 21:34\\nspan2 84:102\\nsignal</td>\n",
       "      <td>1</td>\n",
       "      <td>1</td>\n",
       "      <td>12</td>\n",
       "      <td></td>\n",
       "      <td>0</td>\n",
       "    </tr>\n",
       "  </tbody>\n",
       "</table>\n",
       "</div>"
      ],
      "text/plain": [
       "  original_id                 span1                        span2 signal  \\\n",
       "0                    [azithromycin]                [ototoxicity]     []   \n",
       "1              [dihydrotachysterol]  [increased calcium-release]     []   \n",
       "2                   [hypercalcemia]         [dihydrotachysterol]     []   \n",
       "\n",
       "                                             context  \\\n",
       "0  Intravenous azithromycin-induced ototoxicity.\\...   \n",
       "1  Unaccountable severe hypercalcemia in a patien...   \n",
       "2  Unaccountable severe hypercalcemia in a patien...   \n",
       "\n",
       "                                    idx label direction source ann_file split  \n",
       "0      span1 12:24\\nspan2 33:44\\nsignal     1         0     12              0  \n",
       "1  span1 898:916\\nspan2 950:975\\nsignal     1         0     12              0  \n",
       "2     span1 21:34\\nspan2 84:102\\nsignal     1         1     12              0  "
      ]
     },
     "execution_count": 9,
     "metadata": {},
     "output_type": "execute_result"
    }
   ],
   "source": [
    "data.head(3)"
   ]
  },
  {
   "cell_type": "code",
   "execution_count": 10,
   "metadata": {},
   "outputs": [
    {
     "name": "stdout",
     "output_type": "stream",
     "text": [
      "Avg. length: 124.4203844119203\n",
      "+++++++++++++++\n",
      "min length/id: {'len_min': 20, 'original_id': ''}\n",
      "min context: Prothipendylhydrochloride-induced priapism: case report.\n",
      "\n",
      "We present the first case of a patient with priapism after oral intake of the phenothiazine prothipendylhydrochloride.\n",
      "+++++++++++++++\n",
      "max length/id: {'len_max': 420, 'original_id': ''}\n",
      "max context: Erythema multiforme associated with phenytoin and cranial radiation therapy: a report of three patients and review of the literature.\n",
      "\n",
      "Intracranial malignancies (primary and metastatic) are often complicated by seizure activity. Phenytoin (Dilantin) is typically employed as prophylactic anticonvulsant in this setting. Uncommonly, erythema multiforme (EM) can develop in such patients at the port site during or soon after cranial radiation and can rapidly progress to EM major. Herein, in addition to a comprehensive literature review of this entity, three additional patients are presented. The acronym 'EMPACT' is suggested (E: erythema; M: multiforme; associated with P: phenytoin; A: and; C: cranial, radiation; T: therapy) to best describe this disorder.An extensive review of the English medical literature through the National Library of Medicine (PUBMED) was performed to identify patients who had received or continued to receive radiation therapy while on phenytoin. A total of 24 patients were identified and clinical information of varying detail was available in all cases. Clinical and histological information on three additional patients seen at two institutions (Rochester Methodist Hospital, Rochester, MN, and Fairview-University Medical Center, Minneapolis, MN) by the authors were also compiled.The mean age was 44 years (range: 23-67) and no sexual predisposition was noted. All patients had taken phenytoin for variable time periods (range 16-80 days; mean: 40) and were on the medication when the skin lesions first appeared. These lesions developed within the port site during the radiation treatments (11 cases) or soon after (nine cases) its completion (mean: 16 days; range: 2-35). Subsequent disease evolution to EM major occurred in all cases (Stevens-Johnsons syndrome developed in 73% of patients). No relationship was identified between the extent and the severity of the skin lesions with the phenytoin and radiation dosages and with the histologic type and origin of the intracranial malignancy. None of the patients demonstrated the requisite features of the 'Dilantin hypersensitivity syndrome'. Although, a systemic steroid taper was employed in 10 out of the 14 patients before the development of the skin lesions, the subsequent progression of the skin lesions was not influenced by the use of systemic steroid therapy. Complete recovery occurred in all but two patients typically within 1-8 weeks of discontinuation of phenytoin.The need for prophylactic anticonvulsant therapy especially utilizing phenytoin in patients undergoing cranial radiation therapy should be assessed on a case by case basis. If anticonvulsants are employed, then they must be administered with caution, and all cutaneous reactions developing subsequently within the radiation site must be promptly evaluated with a high index of suspicion for erythema multiforme.\n"
     ]
    }
   ],
   "source": [
    "min_avg_max(data)"
   ]
  },
  {
   "cell_type": "markdown",
   "metadata": {},
   "source": [
    "## SemEval 2020 Task 5"
   ]
  },
  {
   "cell_type": "code",
   "execution_count": 5,
   "metadata": {},
   "outputs": [
    {
     "name": "stdout",
     "output_type": "stream",
     "text": [
      "samples: 5501\n",
      "mismatch: 0\n",
      "+ causal: 5501\n",
      "- non-causal: 0\n"
     ]
    }
   ],
   "source": [
    "data, mis = converter.convert_semeval_2020_5()\n",
    "total_samples += len(data)\n",
    "\n",
    "print(\"samples: \" + str(len(data)))\n",
    "print(\"mismatch: \" + str(mis))\n",
    "print(\"+ causal: {}\".format(len(data.loc[data[\"label\"] == 1])))\n",
    "print(\"- non-causal: {}\".format(len(data.loc[data[\"label\"] == 0])))"
   ]
  },
  {
   "cell_type": "code",
   "execution_count": 6,
   "metadata": {},
   "outputs": [
    {
     "data": {
      "text/html": [
       "<div>\n",
       "<style scoped>\n",
       "    .dataframe tbody tr th:only-of-type {\n",
       "        vertical-align: middle;\n",
       "    }\n",
       "\n",
       "    .dataframe tbody tr th {\n",
       "        vertical-align: top;\n",
       "    }\n",
       "\n",
       "    .dataframe thead th {\n",
       "        text-align: right;\n",
       "    }\n",
       "</style>\n",
       "<table border=\"1\" class=\"dataframe\">\n",
       "  <thead>\n",
       "    <tr style=\"text-align: right;\">\n",
       "      <th></th>\n",
       "      <th>original_id</th>\n",
       "      <th>span1</th>\n",
       "      <th>span2</th>\n",
       "      <th>signal</th>\n",
       "      <th>context</th>\n",
       "      <th>idx</th>\n",
       "      <th>label</th>\n",
       "      <th>direction</th>\n",
       "      <th>source</th>\n",
       "      <th>ann_file</th>\n",
       "      <th>split</th>\n",
       "    </tr>\n",
       "  </thead>\n",
       "  <tbody>\n",
       "    <tr>\n",
       "      <th>0</th>\n",
       "      <td></td>\n",
       "      <td>[I don't think any of us---even economic gurus...</td>\n",
       "      <td>[if the stimulus bill had become hamstrung by ...</td>\n",
       "      <td>[]</td>\n",
       "      <td>I don't think any of us---even economic gurus ...</td>\n",
       "      <td>span1 0:139\\nspan2 140:233\\nsignal</td>\n",
       "      <td>1</td>\n",
       "      <td>1</td>\n",
       "      <td>13</td>\n",
       "      <td></td>\n",
       "      <td>0</td>\n",
       "    </tr>\n",
       "    <tr>\n",
       "      <th>1</th>\n",
       "      <td></td>\n",
       "      <td>[The GOP's malignant amnesia regarding the eco...</td>\n",
       "      <td>[were it not for the wreckage they caused]</td>\n",
       "      <td>[]</td>\n",
       "      <td>The GOP's malignant amnesia regarding the econ...</td>\n",
       "      <td>span1 0:68\\nspan2 69:109\\nsignal</td>\n",
       "      <td>1</td>\n",
       "      <td>1</td>\n",
       "      <td>13</td>\n",
       "      <td></td>\n",
       "      <td>0</td>\n",
       "    </tr>\n",
       "    <tr>\n",
       "      <th>2</th>\n",
       "      <td></td>\n",
       "      <td>[Had the SEC followed its own standard procedu...</td>\n",
       "      <td>[OPKO and Dr. Frost would gladly have provided...</td>\n",
       "      <td>[]</td>\n",
       "      <td>OPKO said in a statement Friday that it was aw...</td>\n",
       "      <td>span1 229:277\\nspan2 279:467\\nsignal</td>\n",
       "      <td>1</td>\n",
       "      <td>0</td>\n",
       "      <td>13</td>\n",
       "      <td></td>\n",
       "      <td>0</td>\n",
       "    </tr>\n",
       "  </tbody>\n",
       "</table>\n",
       "</div>"
      ],
      "text/plain": [
       "  original_id                                              span1  \\\n",
       "0              [I don't think any of us---even economic gurus...   \n",
       "1              [The GOP's malignant amnesia regarding the eco...   \n",
       "2              [Had the SEC followed its own standard procedu...   \n",
       "\n",
       "                                               span2 signal  \\\n",
       "0  [if the stimulus bill had become hamstrung by ...     []   \n",
       "1         [were it not for the wreckage they caused]     []   \n",
       "2  [OPKO and Dr. Frost would gladly have provided...     []   \n",
       "\n",
       "                                             context  \\\n",
       "0  I don't think any of us---even economic gurus ...   \n",
       "1  The GOP's malignant amnesia regarding the econ...   \n",
       "2  OPKO said in a statement Friday that it was aw...   \n",
       "\n",
       "                                    idx label direction source ann_file split  \n",
       "0    span1 0:139\\nspan2 140:233\\nsignal     1         1     13              0  \n",
       "1      span1 0:68\\nspan2 69:109\\nsignal     1         1     13              0  \n",
       "2  span1 229:277\\nspan2 279:467\\nsignal     1         0     13              0  "
      ]
     },
     "execution_count": 6,
     "metadata": {},
     "output_type": "execute_result"
    }
   ],
   "source": [
    "data.head(3)"
   ]
  },
  {
   "cell_type": "code",
   "execution_count": 7,
   "metadata": {},
   "outputs": [
    {
     "name": "stdout",
     "output_type": "stream",
     "text": [
      "Avg. length: 30.79930921650609\n",
      "+++++++++++++++\n",
      "min length/id: {'len_min': 4, 'original_id': ''}\n",
      "min context: I wish I were.\n",
      "+++++++++++++++\n",
      "max length/id: {'len_max': 265, 'original_id': ''}\n",
      "max context: We have been fulfilling our role there.\" ON STEPPING UP BOND PURCHASES \"That is a matter for further consideration, but as you know we don't precommit or even announce the type of policy that we pursue with the Securities Market Programme.\" \"You only have after each week the total amount that has been used, as you have seen that is according to developments in the market, in particular in passing a judgment on whether such developments can have some economic justification in the fundamentals of the economy or not.\" \"The program is still there and you have seen that in the more recent weeks in view of developments we have used a little bit more than in recent months.\" ON GREECE \"There are two elements there (Greece)...in the first place the results for this year are in big part the result of the fact that the deficit of 2009 has been revised up.\" \"It is an automatic result that this makes it more difficult to achieve the target that was fixed when the deficit for 2009 was thought to be low.\" \"Even if the policies had been totally in line with what was foreseen initially, in the end the deficit would be higher because the starting point was worse than was known at the time...\" \"What is essential, and we are really expecting that Greece will comply, is for them to maintain the same target for next year, which may involve certainly new policies that were not perhaps contemplated before.\" \"In spite of what happened this year, the target for next year should be kept.\n"
     ]
    }
   ],
   "source": [
    "min_avg_max(data)"
   ]
  },
  {
   "cell_type": "code",
   "execution_count": null,
   "metadata": {},
   "outputs": [],
   "source": []
  }
 ],
 "metadata": {
  "kernelspec": {
   "display_name": "crest-env",
   "language": "python",
   "name": "crest-env"
  },
  "language_info": {
   "codemirror_mode": {
    "name": "ipython",
    "version": 3
   },
   "file_extension": ".py",
   "mimetype": "text/x-python",
   "name": "python",
   "nbconvert_exporter": "python",
   "pygments_lexer": "ipython3",
   "version": "3.9.20"
  },
  "pycharm": {
   "stem_cell": {
    "cell_type": "raw",
    "metadata": {
     "collapsed": false
    },
    "source": []
   }
  }
 },
 "nbformat": 4,
 "nbformat_minor": 1
}
