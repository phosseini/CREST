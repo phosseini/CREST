{
 "cells": [
  {
   "cell_type": "markdown",
   "metadata": {},
   "source": [
    "## Reading Causal Relations Corpora\n",
    "By: Pedram Hosseini (phosseini@gwu.edu)\n",
    "\n",
    "There have been efforts in creating various causal relation corpora with different level of granularity and schemes. These efforts, even though admirable, are fairly sparse which makes it hard for people in the NLP community to use the generated knowledge. To take a step toward alleviating this problem, we wrote methods in a **Converter** class to convert all of these resources into a simple and friendly format so that anyone can easily use these samples. We try to keep most of the annotations from the original sources in the new schema so that no information will be lost during the data conversion. In the following, there is a list of current data sets which are covered in our collection:\n",
    "\n",
    "- **SemEval 2007 task 4** - Public (source: **1**)\n",
    "- **SemEval 2010 task 8** - Public (source: **2**)\n",
    "- **EventCausality** - Public (source: **3**)\n",
    "- **Causal-TimeBank** - Not public (source: **4**)\n",
    "- **EventStoryLine (v0.9, v1.0, v1.5)** - Public (source: **5**)\n",
    "- **CaTeRS** - Public (source: **6**)\n",
    "- **BECAUSE v2.1** - Public (source: **7**)\n",
    "- **Choice of Plausible Alternatives (COPA)** - Public (source: **8**)\n",
    "- **Penn Discourse TreeBank (PDTB) 3.0** - Not public (source: **9**)\n",
    "- **BioCause** - Public (source: **10**)\n",
    "- **Your data set?**\n",
    "\n",
    "#### JOIN US\n",
    "We invite everyone in the ML/NLP/NLU community and groups of researchers who work on causal/counterfactual relations extraction in language to contribute to this repository, **crest/converter.py** in particular, so that we all take a step forward in improving the quality of availbale data resources and alleviate the sparsness issue."
   ]
  },
  {
   "cell_type": "code",
   "execution_count": 1,
   "metadata": {},
   "outputs": [],
   "source": [
    "import os\n",
    "import sys\n",
    "\n",
    "root_path = os.path.abspath(os.path.join(os.path.dirname(\"__file__\"), '..'))\n",
    "sys.path.insert(0, root_path)\n",
    "\n",
    "from crest import converter\n",
    "from crest.utils import crest2brat, min_avg_max\n",
    "converter = converter.Converter()\n",
    "total_samples = 0"
   ]
  },
  {
   "cell_type": "markdown",
   "metadata": {},
   "source": [
    "## Convert all datasets"
   ]
  },
  {
   "cell_type": "code",
   "execution_count": 2,
   "metadata": {},
   "outputs": [
    {
     "name": "stdout",
     "output_type": "stream",
     "text": [
      "samples: 28879\n",
      "+ causal: 14709\n",
      "- non-causal: 14170\n",
      "train: 18798\n",
      "dev: 1586\n",
      "test: 4840\n"
     ]
    }
   ],
   "source": [
    "df, mis = converter.convert2crest(dataset_ids=[1, 2, 3, 4, 5, 6, 7, 8, 9], save_file=True)\n",
    "\n",
    "print(\"samples: \" + str(len(df)))\n",
    "print(\"+ causal: {}\".format(len(df.loc[df[\"label\"] == 1])))\n",
    "print(\"- non-causal: {}\".format(len(df.loc[df[\"label\"] == 0])))\n",
    "print(\"train: {}\".format(len(df.loc[df[\"split\"] == 0])))\n",
    "print(\"dev: {}\".format(len(df.loc[df[\"split\"] == 1])))\n",
    "print(\"test: {}\".format(len(df.loc[df[\"split\"] == 2])))"
   ]
  },
  {
   "cell_type": "markdown",
   "metadata": {},
   "source": [
    "## SemEval 2007 task 4 "
   ]
  },
  {
   "cell_type": "code",
   "execution_count": 2,
   "metadata": {
    "pycharm": {
     "name": "#%%\n"
    }
   },
   "outputs": [
    {
     "name": "stdout",
     "output_type": "stream",
     "text": [
      "samples: 1529\n",
      "mismatch: 0\n",
      "+ causal: 114\n",
      "- non-causal: 1415\n"
     ]
    }
   ],
   "source": [
    "data, mis = converter.convert_semeval_2007_4()\n",
    "total_samples += len(data)\n",
    "print(\"samples: \" + str(len(data)))\n",
    "print(\"mismatch: \" + str(mis))\n",
    "print(\"+ causal: {}\".format(len(data.loc[data[\"label\"] == 1])))\n",
    "print(\"- non-causal: {}\".format(len(data.loc[data[\"label\"] == 0])))\n",
    "\n",
    "# crest2brat(data, '../data/crest_brat/1')"
   ]
  },
  {
   "cell_type": "code",
   "execution_count": 3,
   "metadata": {
    "pycharm": {
     "name": "#%%\n"
    }
   },
   "outputs": [
    {
     "data": {
      "text/html": [
       "<div>\n",
       "<style scoped>\n",
       "    .dataframe tbody tr th:only-of-type {\n",
       "        vertical-align: middle;\n",
       "    }\n",
       "\n",
       "    .dataframe tbody tr th {\n",
       "        vertical-align: top;\n",
       "    }\n",
       "\n",
       "    .dataframe thead th {\n",
       "        text-align: right;\n",
       "    }\n",
       "</style>\n",
       "<table border=\"1\" class=\"dataframe\">\n",
       "  <thead>\n",
       "    <tr style=\"text-align: right;\">\n",
       "      <th></th>\n",
       "      <th>original_id</th>\n",
       "      <th>span1</th>\n",
       "      <th>span2</th>\n",
       "      <th>signal</th>\n",
       "      <th>context</th>\n",
       "      <th>idx</th>\n",
       "      <th>label</th>\n",
       "      <th>direction</th>\n",
       "      <th>source</th>\n",
       "      <th>ann_file</th>\n",
       "      <th>split</th>\n",
       "    </tr>\n",
       "  </thead>\n",
       "  <tbody>\n",
       "    <tr>\n",
       "      <th>0</th>\n",
       "      <td>1</td>\n",
       "      <td>[tumor shrinkage]</td>\n",
       "      <td>[radiation therapy]</td>\n",
       "      <td>[]</td>\n",
       "      <td>The period of tumor shrinkage after radiation ...</td>\n",
       "      <td>{'span1': [[14, 29]], 'span2': [[36, 53]], 'si...</td>\n",
       "      <td>1</td>\n",
       "      <td>1</td>\n",
       "      <td>1</td>\n",
       "      <td></td>\n",
       "      <td>0</td>\n",
       "    </tr>\n",
       "    <tr>\n",
       "      <th>1</th>\n",
       "      <td>2</td>\n",
       "      <td>[Habitat degradation]</td>\n",
       "      <td>[stream channels]</td>\n",
       "      <td>[]</td>\n",
       "      <td>Habitat degradation from within stream channel...</td>\n",
       "      <td>{'span1': [[0, 19]], 'span2': [[32, 47]], 'sig...</td>\n",
       "      <td>0</td>\n",
       "      <td>1</td>\n",
       "      <td>1</td>\n",
       "      <td></td>\n",
       "      <td>0</td>\n",
       "    </tr>\n",
       "    <tr>\n",
       "      <th>2</th>\n",
       "      <td>3</td>\n",
       "      <td>[discomfort]</td>\n",
       "      <td>[traveling]</td>\n",
       "      <td>[]</td>\n",
       "      <td>Earplugs relieve the discomfort from traveling...</td>\n",
       "      <td>{'span1': [[21, 31]], 'span2': [[37, 46]], 'si...</td>\n",
       "      <td>1</td>\n",
       "      <td>1</td>\n",
       "      <td>1</td>\n",
       "      <td></td>\n",
       "      <td>0</td>\n",
       "    </tr>\n",
       "    <tr>\n",
       "      <th>3</th>\n",
       "      <td>4</td>\n",
       "      <td>[daily terror]</td>\n",
       "      <td>[antipersonnel land mines]</td>\n",
       "      <td>[]</td>\n",
       "      <td>We continue to see progress toward a world fre...</td>\n",
       "      <td>{'span1': [[55, 67]], 'span2': [[71, 95]], 'si...</td>\n",
       "      <td>1</td>\n",
       "      <td>1</td>\n",
       "      <td>1</td>\n",
       "      <td></td>\n",
       "      <td>0</td>\n",
       "    </tr>\n",
       "    <tr>\n",
       "      <th>4</th>\n",
       "      <td>5</td>\n",
       "      <td>[segment]</td>\n",
       "      <td>[anecdotes]</td>\n",
       "      <td>[]</td>\n",
       "      <td>The Global Warming segment starts off with two...</td>\n",
       "      <td>{'span1': [[19, 26]], 'span2': [[53, 62]], 'si...</td>\n",
       "      <td>0</td>\n",
       "      <td>1</td>\n",
       "      <td>1</td>\n",
       "      <td></td>\n",
       "      <td>0</td>\n",
       "    </tr>\n",
       "  </tbody>\n",
       "</table>\n",
       "</div>"
      ],
      "text/plain": [
       "  original_id                  span1                       span2 signal  \\\n",
       "0           1      [tumor shrinkage]         [radiation therapy]     []   \n",
       "1           2  [Habitat degradation]           [stream channels]     []   \n",
       "2           3           [discomfort]                 [traveling]     []   \n",
       "3           4         [daily terror]  [antipersonnel land mines]     []   \n",
       "4           5              [segment]                 [anecdotes]     []   \n",
       "\n",
       "                                             context  \\\n",
       "0  The period of tumor shrinkage after radiation ...   \n",
       "1  Habitat degradation from within stream channel...   \n",
       "2  Earplugs relieve the discomfort from traveling...   \n",
       "3  We continue to see progress toward a world fre...   \n",
       "4  The Global Warming segment starts off with two...   \n",
       "\n",
       "                                                 idx label direction source  \\\n",
       "0  {'span1': [[14, 29]], 'span2': [[36, 53]], 'si...     1         1      1   \n",
       "1  {'span1': [[0, 19]], 'span2': [[32, 47]], 'sig...     0         1      1   \n",
       "2  {'span1': [[21, 31]], 'span2': [[37, 46]], 'si...     1         1      1   \n",
       "3  {'span1': [[55, 67]], 'span2': [[71, 95]], 'si...     1         1      1   \n",
       "4  {'span1': [[19, 26]], 'span2': [[53, 62]], 'si...     0         1      1   \n",
       "\n",
       "  ann_file split  \n",
       "0              0  \n",
       "1              0  \n",
       "2              0  \n",
       "3              0  \n",
       "4              0  "
      ]
     },
     "execution_count": 3,
     "metadata": {},
     "output_type": "execute_result"
    }
   ],
   "source": [
    "data.head()"
   ]
  },
  {
   "cell_type": "code",
   "execution_count": 4,
   "metadata": {},
   "outputs": [
    {
     "name": "stdout",
     "output_type": "stream",
     "text": [
      "Avg. length: 17.521909744931328\n",
      "+++++++++++++++\n",
      "min length: 3\n",
      "min context: Trees grow seeds.\n",
      "+++++++++++++++\n",
      "max length: 82\n",
      "max context: Literary criticism is the study of literature by means of a microscopic knowledge of the language in which a book is written, of its growth from various roots, of its stages of development and the factors influencing them, of its condition in the period of this particular composition, of the writer's idiosyncrasies of thought and style in his ripening periods, of the general history and literature of his race, and of the special characteristics of his age and of his contemporary writers.\n"
     ]
    }
   ],
   "source": [
    "min_avg_max(data)"
   ]
  },
  {
   "cell_type": "markdown",
   "metadata": {},
   "source": [
    "## SemEval 2010 task 8"
   ]
  },
  {
   "cell_type": "code",
   "execution_count": 5,
   "metadata": {
    "pycharm": {
     "name": "#%%\n"
    }
   },
   "outputs": [
    {
     "name": "stdout",
     "output_type": "stream",
     "text": [
      "samples: 10717\n",
      "mismatch: 0\n",
      "+ causal: 1331\n",
      "- non-causal: 9386\n"
     ]
    }
   ],
   "source": [
    "data, mis = converter.convert_semeval_2010_8()\n",
    "total_samples += len(data)\n",
    "print(\"samples: {}\".format(len(data)))\n",
    "print(\"mismatch: \" + str(mis))\n",
    "print(\"+ causal: {}\".format(len(data.loc[data[\"label\"] == 1])))\n",
    "print(\"- non-causal: {}\".format(len(data.loc[data[\"label\"] == 0])))\n",
    "\n",
    "# crest2brat(data, '../data/crest_brat/2')"
   ]
  },
  {
   "cell_type": "code",
   "execution_count": 6,
   "metadata": {
    "pycharm": {
     "name": "#%%\n"
    }
   },
   "outputs": [
    {
     "data": {
      "text/html": [
       "<div>\n",
       "<style scoped>\n",
       "    .dataframe tbody tr th:only-of-type {\n",
       "        vertical-align: middle;\n",
       "    }\n",
       "\n",
       "    .dataframe tbody tr th {\n",
       "        vertical-align: top;\n",
       "    }\n",
       "\n",
       "    .dataframe thead th {\n",
       "        text-align: right;\n",
       "    }\n",
       "</style>\n",
       "<table border=\"1\" class=\"dataframe\">\n",
       "  <thead>\n",
       "    <tr style=\"text-align: right;\">\n",
       "      <th></th>\n",
       "      <th>original_id</th>\n",
       "      <th>span1</th>\n",
       "      <th>span2</th>\n",
       "      <th>signal</th>\n",
       "      <th>context</th>\n",
       "      <th>idx</th>\n",
       "      <th>label</th>\n",
       "      <th>direction</th>\n",
       "      <th>source</th>\n",
       "      <th>ann_file</th>\n",
       "      <th>split</th>\n",
       "    </tr>\n",
       "  </thead>\n",
       "  <tbody>\n",
       "    <tr>\n",
       "      <th>0</th>\n",
       "      <td>1</td>\n",
       "      <td>[configuration]</td>\n",
       "      <td>[elements]</td>\n",
       "      <td>[]</td>\n",
       "      <td>The system as described above has its greatest...</td>\n",
       "      <td>{'span1': [[73, 86]], 'span2': [[98, 106]], 's...</td>\n",
       "      <td>0</td>\n",
       "      <td>1</td>\n",
       "      <td>2</td>\n",
       "      <td></td>\n",
       "      <td>0</td>\n",
       "    </tr>\n",
       "    <tr>\n",
       "      <th>1</th>\n",
       "      <td>2</td>\n",
       "      <td>[child]</td>\n",
       "      <td>[cradle]</td>\n",
       "      <td>[]</td>\n",
       "      <td>The child was carefully wrapped and bound into...</td>\n",
       "      <td>{'span1': [[4, 9]], 'span2': [[51, 57]], 'sign...</td>\n",
       "      <td>0</td>\n",
       "      <td>-1</td>\n",
       "      <td>2</td>\n",
       "      <td></td>\n",
       "      <td>0</td>\n",
       "    </tr>\n",
       "    <tr>\n",
       "      <th>2</th>\n",
       "      <td>3</td>\n",
       "      <td>[author]</td>\n",
       "      <td>[disassembler]</td>\n",
       "      <td>[]</td>\n",
       "      <td>The author of a keygen uses a disassembler to ...</td>\n",
       "      <td>{'span1': [[4, 10]], 'span2': [[30, 42]], 'sig...</td>\n",
       "      <td>0</td>\n",
       "      <td>1</td>\n",
       "      <td>2</td>\n",
       "      <td></td>\n",
       "      <td>0</td>\n",
       "    </tr>\n",
       "    <tr>\n",
       "      <th>3</th>\n",
       "      <td>4</td>\n",
       "      <td>[ridge]</td>\n",
       "      <td>[surge]</td>\n",
       "      <td>[]</td>\n",
       "      <td>A misty ridge uprises from the surge.</td>\n",
       "      <td>{'span1': [[8, 13]], 'span2': [[31, 36]], 'sig...</td>\n",
       "      <td>0</td>\n",
       "      <td>-1</td>\n",
       "      <td>2</td>\n",
       "      <td></td>\n",
       "      <td>0</td>\n",
       "    </tr>\n",
       "    <tr>\n",
       "      <th>4</th>\n",
       "      <td>5</td>\n",
       "      <td>[student]</td>\n",
       "      <td>[association]</td>\n",
       "      <td>[]</td>\n",
       "      <td>The student association is the voice of the un...</td>\n",
       "      <td>{'span1': [[4, 11]], 'span2': [[12, 23]], 'sig...</td>\n",
       "      <td>0</td>\n",
       "      <td>0</td>\n",
       "      <td>2</td>\n",
       "      <td></td>\n",
       "      <td>0</td>\n",
       "    </tr>\n",
       "  </tbody>\n",
       "</table>\n",
       "</div>"
      ],
      "text/plain": [
       "  original_id            span1           span2 signal  \\\n",
       "0           1  [configuration]      [elements]     []   \n",
       "1           2          [child]        [cradle]     []   \n",
       "2           3         [author]  [disassembler]     []   \n",
       "3           4          [ridge]         [surge]     []   \n",
       "4           5        [student]   [association]     []   \n",
       "\n",
       "                                             context  \\\n",
       "0  The system as described above has its greatest...   \n",
       "1  The child was carefully wrapped and bound into...   \n",
       "2  The author of a keygen uses a disassembler to ...   \n",
       "3              A misty ridge uprises from the surge.   \n",
       "4  The student association is the voice of the un...   \n",
       "\n",
       "                                                 idx label direction source  \\\n",
       "0  {'span1': [[73, 86]], 'span2': [[98, 106]], 's...     0         1      2   \n",
       "1  {'span1': [[4, 9]], 'span2': [[51, 57]], 'sign...     0        -1      2   \n",
       "2  {'span1': [[4, 10]], 'span2': [[30, 42]], 'sig...     0         1      2   \n",
       "3  {'span1': [[8, 13]], 'span2': [[31, 36]], 'sig...     0        -1      2   \n",
       "4  {'span1': [[4, 11]], 'span2': [[12, 23]], 'sig...     0         0      2   \n",
       "\n",
       "  ann_file split  \n",
       "0              0  \n",
       "1              0  \n",
       "2              0  \n",
       "3              0  \n",
       "4              0  "
      ]
     },
     "execution_count": 6,
     "metadata": {},
     "output_type": "execute_result"
    }
   ],
   "source": [
    "data.head()"
   ]
  },
  {
   "cell_type": "code",
   "execution_count": 7,
   "metadata": {
    "pycharm": {
     "name": "#%%\n"
    }
   },
   "outputs": [
    {
     "name": "stdout",
     "output_type": "stream",
     "text": [
      "Avg. length: 17.21246617523561\n",
      "+++++++++++++++\n",
      "min length: 3\n",
      "min context: Trees grow seeds.\n",
      "+++++++++++++++\n",
      "max length: 85\n",
      "max context: It was formerly known as How Park, possibly through the early connexion of William de Ow with the parish, and had its origin in the charter of 1200 granting William Briwere the elder chase of hare, fox, cat and wolf through all the king's land (per totam terram nostram) and warren of hares, pheasants and partridges throughout all his own lands, as also licence to inclose two coppices, one of which was situated between King's Somborne and Stockbridge and the other was called How Wood.\n"
     ]
    }
   ],
   "source": [
    "min_avg_max(data)"
   ]
  },
  {
   "cell_type": "markdown",
   "metadata": {},
   "source": [
    "## EventCausality data set"
   ]
  },
  {
   "cell_type": "code",
   "execution_count": 8,
   "metadata": {
    "pycharm": {
     "name": "#%%\n"
    }
   },
   "outputs": [
    {
     "name": "stdout",
     "output_type": "stream",
     "text": [
      "samples: 485\n",
      "mismatch: 0\n",
      "+ causal: 485\n",
      "- non-causal: 0\n"
     ]
    }
   ],
   "source": [
    "data, mis = converter.convert_event_causality()\n",
    "total_samples += len(data)\n",
    "print(\"samples: \" + str(len(data)))\n",
    "print(\"mismatch: \" + str(mis))\n",
    "print(\"+ causal: {}\".format(len(data.loc[data[\"label\"] == 1])))\n",
    "print(\"- non-causal: {}\".format(len(data.loc[data[\"label\"] == 0])))\n",
    "\n",
    "crest2brat(data, '../data/crest_brat/3')"
   ]
  },
  {
   "cell_type": "code",
   "execution_count": 9,
   "metadata": {},
   "outputs": [
    {
     "data": {
      "text/html": [
       "<div>\n",
       "<style scoped>\n",
       "    .dataframe tbody tr th:only-of-type {\n",
       "        vertical-align: middle;\n",
       "    }\n",
       "\n",
       "    .dataframe tbody tr th {\n",
       "        vertical-align: top;\n",
       "    }\n",
       "\n",
       "    .dataframe thead th {\n",
       "        text-align: right;\n",
       "    }\n",
       "</style>\n",
       "<table border=\"1\" class=\"dataframe\">\n",
       "  <thead>\n",
       "    <tr style=\"text-align: right;\">\n",
       "      <th></th>\n",
       "      <th>original_id</th>\n",
       "      <th>span1</th>\n",
       "      <th>span2</th>\n",
       "      <th>signal</th>\n",
       "      <th>context</th>\n",
       "      <th>idx</th>\n",
       "      <th>label</th>\n",
       "      <th>direction</th>\n",
       "      <th>source</th>\n",
       "      <th>ann_file</th>\n",
       "      <th>split</th>\n",
       "    </tr>\n",
       "  </thead>\n",
       "  <tbody>\n",
       "    <tr>\n",
       "      <th>0</th>\n",
       "      <td>C_6_4_6_102010.01.13.google.china.exit</td>\n",
       "      <td>[attacks]</td>\n",
       "      <td>[conclude]</td>\n",
       "      <td>[]</td>\n",
       "      <td>The company says the attacks \" have led us to ...</td>\n",
       "      <td>{'span1': [[21, 28]], 'span2': [[46, 54]], 'si...</td>\n",
       "      <td>1</td>\n",
       "      <td>0</td>\n",
       "      <td>3</td>\n",
       "      <td>2010.01.13.google.china.exit</td>\n",
       "      <td>1</td>\n",
       "    </tr>\n",
       "    <tr>\n",
       "      <th>1</th>\n",
       "      <td>C_6_10_6_142010.01.13.google.china.exit</td>\n",
       "      <td>[conclude]</td>\n",
       "      <td>[review]</td>\n",
       "      <td>[]</td>\n",
       "      <td>The company says the attacks \" have led us to ...</td>\n",
       "      <td>{'span1': [[46, 54]], 'span2': [[70, 76]], 'si...</td>\n",
       "      <td>1</td>\n",
       "      <td>0</td>\n",
       "      <td>3</td>\n",
       "      <td>2010.01.13.google.china.exit</td>\n",
       "      <td>1</td>\n",
       "    </tr>\n",
       "    <tr>\n",
       "      <th>2</th>\n",
       "      <td>C_12_5_12_182010.01.13.google.china.exit</td>\n",
       "      <td>[deliveries]</td>\n",
       "      <td>[interpreted]</td>\n",
       "      <td>[]</td>\n",
       "      <td>A large number of flower deliveries were made ...</td>\n",
       "      <td>{'span1': [[25, 35]], 'span2': [[105, 116]], '...</td>\n",
       "      <td>1</td>\n",
       "      <td>0</td>\n",
       "      <td>3</td>\n",
       "      <td>2010.01.13.google.china.exit</td>\n",
       "      <td>1</td>\n",
       "    </tr>\n",
       "    <tr>\n",
       "      <th>3</th>\n",
       "      <td>C_14_3_14_142010.01.13.google.china.exit</td>\n",
       "      <td>[leaves]</td>\n",
       "      <td>[advancement]</td>\n",
       "      <td>[]</td>\n",
       "      <td>\" If Google leaves China , it is likely to be ...</td>\n",
       "      <td>{'span1': [[12, 18]], 'span2': [[57, 68]], 'si...</td>\n",
       "      <td>1</td>\n",
       "      <td>0</td>\n",
       "      <td>3</td>\n",
       "      <td>2010.01.13.google.china.exit</td>\n",
       "      <td>1</td>\n",
       "    </tr>\n",
       "    <tr>\n",
       "      <th>4</th>\n",
       "      <td>C_14_3_14_192010.01.13.google.china.exit</td>\n",
       "      <td>[leaves]</td>\n",
       "      <td>[success]</td>\n",
       "      <td>[]</td>\n",
       "      <td>\" If Google leaves China , it is likely to be ...</td>\n",
       "      <td>{'span1': [[12, 18]], 'span2': [[87, 94]], 'si...</td>\n",
       "      <td>1</td>\n",
       "      <td>0</td>\n",
       "      <td>3</td>\n",
       "      <td>2010.01.13.google.china.exit</td>\n",
       "      <td>1</td>\n",
       "    </tr>\n",
       "  </tbody>\n",
       "</table>\n",
       "</div>"
      ],
      "text/plain": [
       "                                original_id         span1          span2  \\\n",
       "0    C_6_4_6_102010.01.13.google.china.exit     [attacks]     [conclude]   \n",
       "1   C_6_10_6_142010.01.13.google.china.exit    [conclude]       [review]   \n",
       "2  C_12_5_12_182010.01.13.google.china.exit  [deliveries]  [interpreted]   \n",
       "3  C_14_3_14_142010.01.13.google.china.exit      [leaves]  [advancement]   \n",
       "4  C_14_3_14_192010.01.13.google.china.exit      [leaves]      [success]   \n",
       "\n",
       "  signal                                            context  \\\n",
       "0     []  The company says the attacks \" have led us to ...   \n",
       "1     []  The company says the attacks \" have led us to ...   \n",
       "2     []  A large number of flower deliveries were made ...   \n",
       "3     []  \" If Google leaves China , it is likely to be ...   \n",
       "4     []  \" If Google leaves China , it is likely to be ...   \n",
       "\n",
       "                                                 idx label direction source  \\\n",
       "0  {'span1': [[21, 28]], 'span2': [[46, 54]], 'si...     1         0      3   \n",
       "1  {'span1': [[46, 54]], 'span2': [[70, 76]], 'si...     1         0      3   \n",
       "2  {'span1': [[25, 35]], 'span2': [[105, 116]], '...     1         0      3   \n",
       "3  {'span1': [[12, 18]], 'span2': [[57, 68]], 'si...     1         0      3   \n",
       "4  {'span1': [[12, 18]], 'span2': [[87, 94]], 'si...     1         0      3   \n",
       "\n",
       "                       ann_file split  \n",
       "0  2010.01.13.google.china.exit     1  \n",
       "1  2010.01.13.google.china.exit     1  \n",
       "2  2010.01.13.google.china.exit     1  \n",
       "3  2010.01.13.google.china.exit     1  \n",
       "4  2010.01.13.google.china.exit     1  "
      ]
     },
     "execution_count": 9,
     "metadata": {},
     "output_type": "execute_result"
    }
   ],
   "source": [
    "data.head()"
   ]
  },
  {
   "cell_type": "code",
   "execution_count": 10,
   "metadata": {},
   "outputs": [
    {
     "data": {
      "text/plain": [
       "\"A major earthquake struck southern Haiti on Tuesday , knocking down buildings and power lines and inflicting what its ambassador to the United States called a catastrophe for the Western Hemisphere 's poorest nation . \""
      ]
     },
     "execution_count": 10,
     "metadata": {},
     "output_type": "execute_result"
    }
   ],
   "source": [
    "data.iloc[35].context"
   ]
  },
  {
   "cell_type": "code",
   "execution_count": 11,
   "metadata": {
    "pycharm": {
     "name": "#%%\n"
    }
   },
   "outputs": [
    {
     "name": "stdout",
     "output_type": "stream",
     "text": [
      "Avg. length: 42.3979381443299\n",
      "+++++++++++++++\n",
      "min length: 13\n",
      "min context: Those shortages are already the source of local and regional conflict . \n",
      "+++++++++++++++\n",
      "max length: 202\n",
      "max context: French police responded to reports of car theft in a town near Paris late Tuesday and a shootout ensued with a group of alleged thieves . Most of them escaped but police captured one and he was later identified as a suspected ETA member , said the spokeswoman , who by custom is not identified .  Spanish media reported that the shootout occurred in the town of Dammarie-les-Lys .  The dead French policeman was wearing a bullet-proof vest but bullets struck fatally elsewhere on his body .  He was reported to be in his 50s , and the father of four children .  ETA has traditionally used France as its rearguard logistics and planning base to prepare attacks across the border in Spain , officials say .  But in recent years as Spain has enlisted increased cooperation from France in cracking down on ETA hideouts , there have been various exchanges of gunfire between ETA suspects and French police , wounding some officers .  Almost all of ETA 's fatal shootings and car bombings have occurred in Spain .  But in December 2007 , ETA shot dead two Spanish Civil Guards in France . \n"
     ]
    }
   ],
   "source": [
    "min_avg_max(data)"
   ]
  },
  {
   "cell_type": "markdown",
   "metadata": {},
   "source": [
    "## Causal-TimeBank"
   ]
  },
  {
   "cell_type": "code",
   "execution_count": 12,
   "metadata": {
    "pycharm": {
     "name": "#%%\n"
    }
   },
   "outputs": [
    {
     "name": "stdout",
     "output_type": "stream",
     "text": [
      "samples: 318\n",
      "mismatch: 0\n",
      "+ causal: 318\n",
      "- non-causal: 0\n"
     ]
    }
   ],
   "source": [
    "data, mis = converter.convert_causal_timebank()\n",
    "total_samples += len(data)\n",
    "print(\"samples: \" + str(len(data)))\n",
    "print(\"mismatch: \" + str(mis))\n",
    "print(\"+ causal: {}\".format(len(data.loc[data[\"label\"] == 1])))\n",
    "print(\"- non-causal: {}\".format(len(data.loc[data[\"label\"] == 0])))\n",
    "\n",
    "crest2brat(data, '../data/crest_brat/4')"
   ]
  },
  {
   "cell_type": "code",
   "execution_count": 13,
   "metadata": {},
   "outputs": [
    {
     "data": {
      "text/html": [
       "<div>\n",
       "<style scoped>\n",
       "    .dataframe tbody tr th:only-of-type {\n",
       "        vertical-align: middle;\n",
       "    }\n",
       "\n",
       "    .dataframe tbody tr th {\n",
       "        vertical-align: top;\n",
       "    }\n",
       "\n",
       "    .dataframe thead th {\n",
       "        text-align: right;\n",
       "    }\n",
       "</style>\n",
       "<table border=\"1\" class=\"dataframe\">\n",
       "  <thead>\n",
       "    <tr style=\"text-align: right;\">\n",
       "      <th></th>\n",
       "      <th>original_id</th>\n",
       "      <th>span1</th>\n",
       "      <th>span2</th>\n",
       "      <th>signal</th>\n",
       "      <th>context</th>\n",
       "      <th>idx</th>\n",
       "      <th>label</th>\n",
       "      <th>direction</th>\n",
       "      <th>source</th>\n",
       "      <th>ann_file</th>\n",
       "      <th>split</th>\n",
       "    </tr>\n",
       "  </thead>\n",
       "  <tbody>\n",
       "    <tr>\n",
       "      <th>0</th>\n",
       "      <td>10</td>\n",
       "      <td>[was]</td>\n",
       "      <td>[thought]</td>\n",
       "      <td>[So]</td>\n",
       "      <td>Not that long ago , before the Chinese takeove...</td>\n",
       "      <td>{'span1': [[82, 85]], 'span2': [[215, 222]], '...</td>\n",
       "      <td>1</td>\n",
       "      <td>0</td>\n",
       "      <td>4</td>\n",
       "      <td>ABC19980108.1830.0711.xml</td>\n",
       "      <td></td>\n",
       "    </tr>\n",
       "    <tr>\n",
       "      <th>1</th>\n",
       "      <td>27</td>\n",
       "      <td>[downturn]</td>\n",
       "      <td>[spending]</td>\n",
       "      <td>[]</td>\n",
       "      <td>But in the past three months , stocks have plu...</td>\n",
       "      <td>{'span1': [[88, 96]], 'span2': [[139, 147]], '...</td>\n",
       "      <td>1</td>\n",
       "      <td>0</td>\n",
       "      <td>4</td>\n",
       "      <td>ABC19980108.1830.0711.xml</td>\n",
       "      <td></td>\n",
       "    </tr>\n",
       "    <tr>\n",
       "      <th>2</th>\n",
       "      <td>36</td>\n",
       "      <td>[change]</td>\n",
       "      <td>[reposition]</td>\n",
       "      <td>[So]</td>\n",
       "      <td>I think that the mood is fairly gloomy , and I...</td>\n",
       "      <td>{'span1': [[72, 78]], 'span2': [[174, 184]], '...</td>\n",
       "      <td>1</td>\n",
       "      <td>0</td>\n",
       "      <td>4</td>\n",
       "      <td>ABC19980108.1830.0711.xml</td>\n",
       "      <td></td>\n",
       "    </tr>\n",
       "    <tr>\n",
       "      <th>3</th>\n",
       "      <td>6</td>\n",
       "      <td>[rains]</td>\n",
       "      <td>[landslides]</td>\n",
       "      <td>[]</td>\n",
       "      <td>Officials in California are warning residents ...</td>\n",
       "      <td>{'span1': [[60, 65]], 'span2': [[105, 115]], '...</td>\n",
       "      <td>1</td>\n",
       "      <td>0</td>\n",
       "      <td>4</td>\n",
       "      <td>PRI19980213.2000.0313.xml</td>\n",
       "      <td></td>\n",
       "    </tr>\n",
       "    <tr>\n",
       "      <th>4</th>\n",
       "      <td>22</td>\n",
       "      <td>[rains]</td>\n",
       "      <td>[get]</td>\n",
       "      <td>[]</td>\n",
       "      <td>Forecasters say the picture will get worse bec...</td>\n",
       "      <td>{'span1': [[56, 61]], 'span2': [[33, 36]], 'si...</td>\n",
       "      <td>1</td>\n",
       "      <td>0</td>\n",
       "      <td>4</td>\n",
       "      <td>PRI19980213.2000.0313.xml</td>\n",
       "      <td></td>\n",
       "    </tr>\n",
       "  </tbody>\n",
       "</table>\n",
       "</div>"
      ],
      "text/plain": [
       "  original_id       span1         span2 signal  \\\n",
       "0          10       [was]     [thought]   [So]   \n",
       "1          27  [downturn]    [spending]     []   \n",
       "2          36    [change]  [reposition]   [So]   \n",
       "3           6     [rains]  [landslides]     []   \n",
       "4          22     [rains]         [get]     []   \n",
       "\n",
       "                                             context  \\\n",
       "0  Not that long ago , before the Chinese takeove...   \n",
       "1  But in the past three months , stocks have plu...   \n",
       "2  I think that the mood is fairly gloomy , and I...   \n",
       "3  Officials in California are warning residents ...   \n",
       "4  Forecasters say the picture will get worse bec...   \n",
       "\n",
       "                                                 idx label direction source  \\\n",
       "0  {'span1': [[82, 85]], 'span2': [[215, 222]], '...     1         0      4   \n",
       "1  {'span1': [[88, 96]], 'span2': [[139, 147]], '...     1         0      4   \n",
       "2  {'span1': [[72, 78]], 'span2': [[174, 184]], '...     1         0      4   \n",
       "3  {'span1': [[60, 65]], 'span2': [[105, 115]], '...     1         0      4   \n",
       "4  {'span1': [[56, 61]], 'span2': [[33, 36]], 'si...     1         0      4   \n",
       "\n",
       "                    ann_file split  \n",
       "0  ABC19980108.1830.0711.xml        \n",
       "1  ABC19980108.1830.0711.xml        \n",
       "2  ABC19980108.1830.0711.xml        \n",
       "3  PRI19980213.2000.0313.xml        \n",
       "4  PRI19980213.2000.0313.xml        "
      ]
     },
     "execution_count": 13,
     "metadata": {},
     "output_type": "execute_result"
    }
   ],
   "source": [
    "data.head()"
   ]
  },
  {
   "cell_type": "code",
   "execution_count": 14,
   "metadata": {
    "pycharm": {
     "name": "#%%\n"
    }
   },
   "outputs": [
    {
     "name": "stdout",
     "output_type": "stream",
     "text": [
      "Avg. length: 32.79874213836478\n",
      "+++++++++++++++\n",
      "min length: 13\n",
      "min context: Iraq said the roundup was to protect them from unspecified threats ; \n",
      "+++++++++++++++\n",
      "max length: 107\n",
      "max context: WASHINGTON _ Following are statements made Friday and Thursday by Lawrence Wechsler , a lawyer for the White House secretary , Betty Currie ; the White House ; White House spokesman Mike McCurry , and President Clinton in response to an article in The New York Times on Friday about her statements regarding a meeting with the president : Wechsler on Thursday \" Without commenting on the allegations raised in this article , to the extent that there is any implication or suggestion that Mrs. Currie was aware of any legal or ethical impropriety by anyone , that implication or suggestion is entirely inaccurate . \" \n"
     ]
    }
   ],
   "source": [
    "min_avg_max(data)"
   ]
  },
  {
   "cell_type": "markdown",
   "metadata": {},
   "source": [
    "## EventStoryLine"
   ]
  },
  {
   "cell_type": "code",
   "execution_count": 2,
   "metadata": {
    "pycharm": {
     "name": "#%%\n"
    }
   },
   "outputs": [
    {
     "name": "stdout",
     "output_type": "stream",
     "text": [
      "samples: 2608\n",
      "mismatch: 0\n",
      "+ causal (PRECONDITION and FALLING_ACTION): 2608\n",
      "- non-causal: 0\n"
     ]
    }
   ],
   "source": [
    "data, mis = converter.convert_eventstorylines_v1(version=\"1.5\")\n",
    "total_samples += len(data)\n",
    "print(\"samples: \" + str(len(data)))\n",
    "print(\"mismatch: \" + str(mis))\n",
    "print(\"+ causal (PRECONDITION and FALLING_ACTION): {}\".format(len(data.loc[data[\"label\"] == 1])))\n",
    "print(\"- non-causal: {}\".format(len(data.loc[data[\"label\"] == 0])))\n",
    "\n",
    "# crest2brat(data, '../data/crest_brat/5')"
   ]
  },
  {
   "cell_type": "code",
   "execution_count": 3,
   "metadata": {
    "pycharm": {
     "name": "#%%\n"
    }
   },
   "outputs": [
    {
     "data": {
      "text/html": [
       "<div>\n",
       "<style scoped>\n",
       "    .dataframe tbody tr th:only-of-type {\n",
       "        vertical-align: middle;\n",
       "    }\n",
       "\n",
       "    .dataframe tbody tr th {\n",
       "        vertical-align: top;\n",
       "    }\n",
       "\n",
       "    .dataframe thead th {\n",
       "        text-align: right;\n",
       "    }\n",
       "</style>\n",
       "<table border=\"1\" class=\"dataframe\">\n",
       "  <thead>\n",
       "    <tr style=\"text-align: right;\">\n",
       "      <th></th>\n",
       "      <th>original_id</th>\n",
       "      <th>span1</th>\n",
       "      <th>span2</th>\n",
       "      <th>signal</th>\n",
       "      <th>context</th>\n",
       "      <th>idx</th>\n",
       "      <th>label</th>\n",
       "      <th>direction</th>\n",
       "      <th>source</th>\n",
       "      <th>ann_file</th>\n",
       "      <th>split</th>\n",
       "    </tr>\n",
       "  </thead>\n",
       "  <tbody>\n",
       "    <tr>\n",
       "      <th>0</th>\n",
       "      <td>246682</td>\n",
       "      <td>[double murder]</td>\n",
       "      <td>[killing]</td>\n",
       "      <td>[]</td>\n",
       "      <td>Cumbria double murder : Son suspected of killi...</td>\n",
       "      <td>{'span1': [[8, 21]], 'span2': [[41, 48]], 'sig...</td>\n",
       "      <td>1</td>\n",
       "      <td>1</td>\n",
       "      <td>5</td>\n",
       "      <td>32_11ecbplus.xml.xml</td>\n",
       "      <td></td>\n",
       "    </tr>\n",
       "    <tr>\n",
       "      <th>1</th>\n",
       "      <td>246683</td>\n",
       "      <td>[sectioned]</td>\n",
       "      <td>[suicide attempt]</td>\n",
       "      <td>[]</td>\n",
       "      <td>John Jenkin , 23 , had been sectioned after an...</td>\n",
       "      <td>{'span1': [[28, 37]], 'span2': [[56, 71]], 'si...</td>\n",
       "      <td>1</td>\n",
       "      <td>1</td>\n",
       "      <td>5</td>\n",
       "      <td>32_11ecbplus.xml.xml</td>\n",
       "      <td></td>\n",
       "    </tr>\n",
       "  </tbody>\n",
       "</table>\n",
       "</div>"
      ],
      "text/plain": [
       "  original_id            span1              span2 signal  \\\n",
       "0      246682  [double murder]          [killing]     []   \n",
       "1      246683      [sectioned]  [suicide attempt]     []   \n",
       "\n",
       "                                             context  \\\n",
       "0  Cumbria double murder : Son suspected of killi...   \n",
       "1  John Jenkin , 23 , had been sectioned after an...   \n",
       "\n",
       "                                                 idx label direction source  \\\n",
       "0  {'span1': [[8, 21]], 'span2': [[41, 48]], 'sig...     1         1      5   \n",
       "1  {'span1': [[28, 37]], 'span2': [[56, 71]], 'si...     1         1      5   \n",
       "\n",
       "               ann_file split  \n",
       "0  32_11ecbplus.xml.xml        \n",
       "1  32_11ecbplus.xml.xml        "
      ]
     },
     "execution_count": 3,
     "metadata": {},
     "output_type": "execute_result"
    }
   ],
   "source": [
    "data.head(2)"
   ]
  },
  {
   "cell_type": "code",
   "execution_count": 7,
   "metadata": {},
   "outputs": [],
   "source": [
    "a = data.loc[data['context'] == 'SEACOM downtime explained']\n",
    "b = data.loc[data['original_id'] == '245609']"
   ]
  },
  {
   "cell_type": "code",
   "execution_count": 8,
   "metadata": {},
   "outputs": [
    {
     "data": {
      "text/html": [
       "<div>\n",
       "<style scoped>\n",
       "    .dataframe tbody tr th:only-of-type {\n",
       "        vertical-align: middle;\n",
       "    }\n",
       "\n",
       "    .dataframe tbody tr th {\n",
       "        vertical-align: top;\n",
       "    }\n",
       "\n",
       "    .dataframe thead th {\n",
       "        text-align: right;\n",
       "    }\n",
       "</style>\n",
       "<table border=\"1\" class=\"dataframe\">\n",
       "  <thead>\n",
       "    <tr style=\"text-align: right;\">\n",
       "      <th></th>\n",
       "      <th>original_id</th>\n",
       "      <th>span1</th>\n",
       "      <th>span2</th>\n",
       "      <th>signal</th>\n",
       "      <th>context</th>\n",
       "      <th>idx</th>\n",
       "      <th>label</th>\n",
       "      <th>direction</th>\n",
       "      <th>source</th>\n",
       "      <th>ann_file</th>\n",
       "      <th>split</th>\n",
       "    </tr>\n",
       "  </thead>\n",
       "  <tbody>\n",
       "    <tr>\n",
       "      <th>1382</th>\n",
       "      <td>245609</td>\n",
       "      <td>[downtime]</td>\n",
       "      <td>[explained]</td>\n",
       "      <td>[]</td>\n",
       "      <td>SEACOM downtime explained</td>\n",
       "      <td>{'span1': [[7, 15]], 'span2': [[16, 25]], 'sig...</td>\n",
       "      <td>1</td>\n",
       "      <td>0</td>\n",
       "      <td>5</td>\n",
       "      <td>30_6ecbplus.xml.xml</td>\n",
       "      <td></td>\n",
       "    </tr>\n",
       "  </tbody>\n",
       "</table>\n",
       "</div>"
      ],
      "text/plain": [
       "     original_id       span1        span2 signal                     context  \\\n",
       "1382      245609  [downtime]  [explained]     []  SEACOM downtime explained    \n",
       "\n",
       "                                                    idx label direction  \\\n",
       "1382  {'span1': [[7, 15]], 'span2': [[16, 25]], 'sig...     1         0   \n",
       "\n",
       "     source             ann_file split  \n",
       "1382      5  30_6ecbplus.xml.xml        "
      ]
     },
     "execution_count": 8,
     "metadata": {},
     "output_type": "execute_result"
    }
   ],
   "source": [
    "b"
   ]
  },
  {
   "cell_type": "code",
   "execution_count": 6,
   "metadata": {
    "pycharm": {
     "name": "#%%\n"
    }
   },
   "outputs": [
    {
     "name": "stdout",
     "output_type": "stream",
     "text": [
      "Avg. length: 43.20782208588957\n",
      "+++++++++++++++\n",
      "min length/id: {'len_min': 4, 'original_id': '245609'}\n",
      "min context: SEACOM downtime explained \n",
      "+++++++++++++++\n",
      "max length/id: {'len_max': 839, 'original_id': '241458'}\n",
      "max context: The Athens protest march marking the zenith of the general strike called for the 5th of May was attended by an approximate 200 , 000 ( 20 , 000 which is the foreign broadcast number referring to the PAME march alone ) , although because of lack of media coverage due to the media participation in the general strike no concrete estimates can be made . After the PAME ( Communist Party union ) protesters left Syntagma square , the first lines of the main march started arriving before the Parliament with the first clashes erupting at the end of Stadiou street . The march then walked on the Unknown Soldier grounds leading the Presidential Guard to retreat , and attempted to storm the Parliament but was pushed back by riot police forces which today demonstrated a particularly staunch attitude and resolve against the demonstrators . Soon battles erupted around the Parliament with protesters throwing Molotov cocktails and rocks , with one riot police armored van torched , and the police responding by extended use of tear gas that soon made Athens' atmosphere unbearably acrid . As more blocks reached Syntagma square , the battles spread across the city center and lasted for more than five hours . During the clashes several state buildings were set ablaze including the County Headquarters of Attika . At the time of writing the Ministry of Finance is reported to be on fire , and vital tax documents as destroyed by the raging fire . However the strange thing is that it is the fourth floor of the building that is burning , at a height inapproachable to petrol bombs . The building is in danger of total collapse . According to news reports that began at 14 : 00 Greek time after , under pressure by the events , most radio and TV stations decided to break their strike , claim that the fire at Marfin Bank's Stadiou street branch that has led to the death of three workers ( one a pregnant woman ) was started by protesters . However this remains an unsubstantiated claim . A similar case three decades ago had originally put the blame for the fire at Kappa - Marousi building on Panepistimiou street , leading to the death of several people inside , to anarchists , while its was later proved the fire was caused by tear gas fired by the police . After the tragic death of the three workers made the round of Athens , new clashes started to spread in the Greek capital , with a large crowd gathered outside the burned bank when Marfin's boss tried to visit the site . Clashes broke out between the crowd and police when the former attacked the bank magnate accusing him of forcing the dead workers to scab on a general strike and locking them in the building despite them demanding to evacuate it since 12 : 00 . In Parliament the Communist Party of Greece has accused the government for the deaths , claiming it was a result of agents provocateur fascist groups . The claims of the Communist Party are based on the fact that 50 fascists tried to enter the PAME demo bearing the flags of the union earlier in the morning . The fascists were spotted , chased and sought refuge behind riot police lines . Accusing the extreme - right as being behind the deaths , the Coalition of Radical Left has declared in Parliament that the government cannot pretend to be in grief for the loss of life , as it has been attacking human life by all means possible . Meanwhile , extended clashes broke out in Salonika where approximately 50 , 000 people marched destroying dozens of banks and corporate shops in Greece's second largest city . Clashes with the police continued for several hours . According to news broadcasts anarchist have occupied the Labour Center of the city . In Patras , around 20 , 000 protesters were joined by tractor drivers and garbage truck drivers on their vehicles , as flaming barricades were erected along central streets of the city and clashes developed between protestors and the police . In Ioannina the protesters attacked banks and corporate shops leading to extended use of chemicals by the police . In Heraklion , 10 , 000 people are reported as marching against the measures . In Corfu , protesters taking part in the anti - measures march occupied the County Headquarters . Protesters have occupied the Administrative Headquarters of Naxos and the City Hall of Naoussa . As a result of the Athens riots , the police have cordoned off the entire center of the city , erecting check points of entry and exit , while all police work permits have been recalled . At the time of writing battles continue to rage in the inner city , while news broadcasts claim the police is mobilising its forces to storm an anarchist squat in Exarcheia . \n"
     ]
    }
   ],
   "source": [
    "min_avg_max(data)"
   ]
  },
  {
   "cell_type": "markdown",
   "metadata": {},
   "source": [
    "## CaTeRS"
   ]
  },
  {
   "cell_type": "code",
   "execution_count": 33,
   "metadata": {
    "pycharm": {
     "name": "#%%\n"
    }
   },
   "outputs": [
    {
     "name": "stdout",
     "output_type": "stream",
     "text": [
      "samples: 2502\n",
      "mismatch: 0\n",
      "+ causal: 308\n",
      "- non-causal: 2194\n"
     ]
    }
   ],
   "source": [
    "data, mis = converter.convert_caters()\n",
    "total_samples += len(data)\n",
    "print(\"samples: \" + str(len(data)))\n",
    "print(\"mismatch: \" + str(mis))\n",
    "print(\"+ causal: {}\".format(len(data.loc[(data[\"label\"] == 1) | (data[\"label\"] == 2)])))\n",
    "print(\"- non-causal: {}\".format(len(data.loc[data[\"label\"] == 0])))\n",
    "\n",
    "crest2brat(data, '../data/crest_brat/6')"
   ]
  },
  {
   "cell_type": "code",
   "execution_count": 34,
   "metadata": {
    "pycharm": {
     "name": "#%%\n"
    }
   },
   "outputs": [
    {
     "data": {
      "text/html": [
       "<div>\n",
       "<style scoped>\n",
       "    .dataframe tbody tr th:only-of-type {\n",
       "        vertical-align: middle;\n",
       "    }\n",
       "\n",
       "    .dataframe tbody tr th {\n",
       "        vertical-align: top;\n",
       "    }\n",
       "\n",
       "    .dataframe thead th {\n",
       "        text-align: right;\n",
       "    }\n",
       "</style>\n",
       "<table border=\"1\" class=\"dataframe\">\n",
       "  <thead>\n",
       "    <tr style=\"text-align: right;\">\n",
       "      <th></th>\n",
       "      <th>original_id</th>\n",
       "      <th>span1</th>\n",
       "      <th>span2</th>\n",
       "      <th>signal</th>\n",
       "      <th>context</th>\n",
       "      <th>idx</th>\n",
       "      <th>label</th>\n",
       "      <th>direction</th>\n",
       "      <th>source</th>\n",
       "      <th>ann_file</th>\n",
       "      <th>split</th>\n",
       "    </tr>\n",
       "  </thead>\n",
       "  <tbody>\n",
       "    <tr>\n",
       "      <th>0</th>\n",
       "      <td>R1</td>\n",
       "      <td>[resuscitation]</td>\n",
       "      <td>[passed away]</td>\n",
       "      <td>[]</td>\n",
       "      <td>There was a man in the alley named Bill\\nBill ...</td>\n",
       "      <td>{'span1': [[194, 207]], 'span2': [[166, 177]],...</td>\n",
       "      <td>0</td>\n",
       "      <td>0</td>\n",
       "      <td>6</td>\n",
       "      <td>test_15Oct.ann</td>\n",
       "      <td>2</td>\n",
       "    </tr>\n",
       "    <tr>\n",
       "      <th>1</th>\n",
       "      <td>R2</td>\n",
       "      <td>[shot]</td>\n",
       "      <td>[passed away]</td>\n",
       "      <td>[]</td>\n",
       "      <td>There was a man in the alley named Bill\\nBill ...</td>\n",
       "      <td>{'span1': [[136, 140]], 'span2': [[166, 177]],...</td>\n",
       "      <td>1</td>\n",
       "      <td>0</td>\n",
       "      <td>6</td>\n",
       "      <td>test_15Oct.ann</td>\n",
       "      <td>2</td>\n",
       "    </tr>\n",
       "    <tr>\n",
       "      <th>2</th>\n",
       "      <td>R3</td>\n",
       "      <td>[intoxicated]</td>\n",
       "      <td>[insulted]</td>\n",
       "      <td>[]</td>\n",
       "      <td>There was a man in the alley named Bill\\nBill ...</td>\n",
       "      <td>{'span1': [[49, 60]], 'span2': [[91, 99]], 'si...</td>\n",
       "      <td>1</td>\n",
       "      <td>0</td>\n",
       "      <td>6</td>\n",
       "      <td>test_15Oct.ann</td>\n",
       "      <td>2</td>\n",
       "    </tr>\n",
       "    <tr>\n",
       "      <th>3</th>\n",
       "      <td>R4</td>\n",
       "      <td>[insulted]</td>\n",
       "      <td>[shot]</td>\n",
       "      <td>[]</td>\n",
       "      <td>There was a man in the alley named Bill\\nBill ...</td>\n",
       "      <td>{'span1': [[91, 99]], 'span2': [[136, 140]], '...</td>\n",
       "      <td>1</td>\n",
       "      <td>0</td>\n",
       "      <td>6</td>\n",
       "      <td>test_15Oct.ann</td>\n",
       "      <td>2</td>\n",
       "    </tr>\n",
       "    <tr>\n",
       "      <th>4</th>\n",
       "      <td>R6</td>\n",
       "      <td>[ruined]</td>\n",
       "      <td>[sad]</td>\n",
       "      <td>[]</td>\n",
       "      <td>Grayson wanted to bake his brother a birthday ...</td>\n",
       "      <td>{'span1': [[192, 198]], 'span2': [[232, 235]],...</td>\n",
       "      <td>1</td>\n",
       "      <td>0</td>\n",
       "      <td>6</td>\n",
       "      <td>test_15Oct.ann</td>\n",
       "      <td>2</td>\n",
       "    </tr>\n",
       "  </tbody>\n",
       "</table>\n",
       "</div>"
      ],
      "text/plain": [
       "  original_id            span1          span2 signal  \\\n",
       "0          R1  [resuscitation]  [passed away]     []   \n",
       "1          R2           [shot]  [passed away]     []   \n",
       "2          R3    [intoxicated]     [insulted]     []   \n",
       "3          R4       [insulted]         [shot]     []   \n",
       "4          R6         [ruined]          [sad]     []   \n",
       "\n",
       "                                             context  \\\n",
       "0  There was a man in the alley named Bill\\nBill ...   \n",
       "1  There was a man in the alley named Bill\\nBill ...   \n",
       "2  There was a man in the alley named Bill\\nBill ...   \n",
       "3  There was a man in the alley named Bill\\nBill ...   \n",
       "4  Grayson wanted to bake his brother a birthday ...   \n",
       "\n",
       "                                                 idx label direction source  \\\n",
       "0  {'span1': [[194, 207]], 'span2': [[166, 177]],...     0         0      6   \n",
       "1  {'span1': [[136, 140]], 'span2': [[166, 177]],...     1         0      6   \n",
       "2  {'span1': [[49, 60]], 'span2': [[91, 99]], 'si...     1         0      6   \n",
       "3  {'span1': [[91, 99]], 'span2': [[136, 140]], '...     1         0      6   \n",
       "4  {'span1': [[192, 198]], 'span2': [[232, 235]],...     1         0      6   \n",
       "\n",
       "         ann_file split  \n",
       "0  test_15Oct.ann     2  \n",
       "1  test_15Oct.ann     2  \n",
       "2  test_15Oct.ann     2  \n",
       "3  test_15Oct.ann     2  \n",
       "4  test_15Oct.ann     2  "
      ]
     },
     "execution_count": 34,
     "metadata": {},
     "output_type": "execute_result"
    }
   ],
   "source": [
    "data.head()"
   ]
  },
  {
   "cell_type": "code",
   "execution_count": 35,
   "metadata": {
    "pycharm": {
     "name": "#%%\n"
    }
   },
   "outputs": [
    {
     "name": "stdout",
     "output_type": "stream",
     "text": [
      "Avg. length: 42.48760991207035\n",
      "+++++++++++++++\n",
      "min length: 20\n",
      "min context: Billy felt lonely in school.\n",
      "He had no friends.\n",
      "One day, a new kid came to school.\n",
      "They instantly became friends.\n",
      "They became inseparable.\n",
      "+++++++++++++++\n",
      "max length: 65\n",
      "max context: My mother's cat was ill, so my brother took it to the vet for her.\n",
      "They said the cat needed to stay there for some tests.\n",
      "They called my brother an hour later, telling him to come pick it up.\n",
      "When he got there, the girl at the front desk said the cat had died!\n",
      "Later that day, she called to say she was mistaken, the cat was fine.\n"
     ]
    }
   ],
   "source": [
    "min_avg_max(data)"
   ]
  },
  {
   "cell_type": "markdown",
   "metadata": {},
   "source": [
    "## BECAUSE v2.1\n",
    "\n",
    "Since the raw text files for **PTB** and **NYT** need LDC subscription, these file have not been covered in our data reader yet. Once we have access to the raw files from these data resources, we will write the proper data readers for them."
   ]
  },
  {
   "cell_type": "code",
   "execution_count": 36,
   "metadata": {
    "pycharm": {
     "name": "#%%\n"
    },
    "scrolled": false
   },
   "outputs": [
    {
     "name": "stdout",
     "output_type": "stream",
     "text": [
      "samples: 729\n",
      "mismatch: 0\n",
      "+ causal: 554\n",
      "- non-causal: 175\n"
     ]
    }
   ],
   "source": [
    "data, mis = converter.convert_because()\n",
    "total_samples += len(data)\n",
    "print(\"samples: \" + str(len(data)))\n",
    "print(\"mismatch: \" + str(mis))\n",
    "print(\"+ causal: {}\".format(len(data.loc[(data[\"label\"] == 1) | (data[\"label\"] == 2)])))\n",
    "print(\"- non-causal: {}\".format(len(data.loc[data[\"label\"] == 0])))\n",
    "\n",
    "crest2brat(data, '../data/crest_brat/7')"
   ]
  },
  {
   "cell_type": "code",
   "execution_count": 37,
   "metadata": {
    "pycharm": {
     "name": "#%%\n"
    }
   },
   "outputs": [
    {
     "data": {
      "text/html": [
       "<div>\n",
       "<style scoped>\n",
       "    .dataframe tbody tr th:only-of-type {\n",
       "        vertical-align: middle;\n",
       "    }\n",
       "\n",
       "    .dataframe tbody tr th {\n",
       "        vertical-align: top;\n",
       "    }\n",
       "\n",
       "    .dataframe thead th {\n",
       "        text-align: right;\n",
       "    }\n",
       "</style>\n",
       "<table border=\"1\" class=\"dataframe\">\n",
       "  <thead>\n",
       "    <tr style=\"text-align: right;\">\n",
       "      <th></th>\n",
       "      <th>original_id</th>\n",
       "      <th>span1</th>\n",
       "      <th>span2</th>\n",
       "      <th>signal</th>\n",
       "      <th>context</th>\n",
       "      <th>idx</th>\n",
       "      <th>label</th>\n",
       "      <th>direction</th>\n",
       "      <th>source</th>\n",
       "      <th>ann_file</th>\n",
       "      <th>split</th>\n",
       "    </tr>\n",
       "  </thead>\n",
       "  <tbody>\n",
       "    <tr>\n",
       "      <th>0</th>\n",
       "      <td>E1</td>\n",
       "      <td>[that has arisen]</td>\n",
       "      <td>[the past few years]</td>\n",
       "      <td>[over]</td>\n",
       "      <td>And second, we should address the issue that h...</td>\n",
       "      <td>{'span1': [[40, 55]], 'span2': [[76, 94]], 'si...</td>\n",
       "      <td>0</td>\n",
       "      <td>1</td>\n",
       "      <td>7</td>\n",
       "      <td>CHRG-111shrg61651.ann</td>\n",
       "      <td></td>\n",
       "    </tr>\n",
       "    <tr>\n",
       "      <th>1</th>\n",
       "      <td>E4</td>\n",
       "      <td>[these banks are too big to fail]</td>\n",
       "      <td>[they have lower funding costs, they are able ...</td>\n",
       "      <td>[Because]</td>\n",
       "      <td>Because these banks are too big to fail, they ...</td>\n",
       "      <td>{'span1': [[8, 39]], 'span2': [[41, 179]], 'si...</td>\n",
       "      <td>1</td>\n",
       "      <td>0</td>\n",
       "      <td>7</td>\n",
       "      <td>CHRG-111shrg61651.ann</td>\n",
       "      <td></td>\n",
       "    </tr>\n",
       "    <tr>\n",
       "      <th>2</th>\n",
       "      <td>E5</td>\n",
       "      <td>[they make more money]</td>\n",
       "      <td>[the cycle]</td>\n",
       "      <td>[over]</td>\n",
       "      <td>Because these banks are too big to fail, they ...</td>\n",
       "      <td>{'span1': [[111, 131]], 'span2': [[137, 146]],...</td>\n",
       "      <td>0</td>\n",
       "      <td>1</td>\n",
       "      <td>7</td>\n",
       "      <td>CHRG-111shrg61651.ann</td>\n",
       "      <td></td>\n",
       "    </tr>\n",
       "    <tr>\n",
       "      <th>3</th>\n",
       "      <td>E6</td>\n",
       "      <td>[too big]</td>\n",
       "      <td>[fail]</td>\n",
       "      <td>[too, to]</td>\n",
       "      <td>Because these banks are too big to fail, they ...</td>\n",
       "      <td>{'span1': [[24, 31]], 'span2': [[35, 39]], 'si...</td>\n",
       "      <td>1</td>\n",
       "      <td>0</td>\n",
       "      <td>7</td>\n",
       "      <td>CHRG-111shrg61651.ann</td>\n",
       "      <td></td>\n",
       "    </tr>\n",
       "    <tr>\n",
       "      <th>4</th>\n",
       "      <td>E7</td>\n",
       "      <td>[you look at the European situation today]</td>\n",
       "      <td>[it is much worse than what we have in this co...</td>\n",
       "      <td>[If]</td>\n",
       "      <td>If you look at the European situation today, f...</td>\n",
       "      <td>{'span1': [[3, 43]], 'span2': [[58, 153]], 'si...</td>\n",
       "      <td>0</td>\n",
       "      <td>0</td>\n",
       "      <td>7</td>\n",
       "      <td>CHRG-111shrg61651.ann</td>\n",
       "      <td></td>\n",
       "    </tr>\n",
       "  </tbody>\n",
       "</table>\n",
       "</div>"
      ],
      "text/plain": [
       "  original_id                                       span1  \\\n",
       "0          E1                           [that has arisen]   \n",
       "1          E4           [these banks are too big to fail]   \n",
       "2          E5                      [they make more money]   \n",
       "3          E6                                   [too big]   \n",
       "4          E7  [you look at the European situation today]   \n",
       "\n",
       "                                               span2     signal  \\\n",
       "0                               [the past few years]     [over]   \n",
       "1  [they have lower funding costs, they are able ...  [Because]   \n",
       "2                                        [the cycle]     [over]   \n",
       "3                                             [fail]  [too, to]   \n",
       "4  [it is much worse than what we have in this co...       [If]   \n",
       "\n",
       "                                             context  \\\n",
       "0  And second, we should address the issue that h...   \n",
       "1  Because these banks are too big to fail, they ...   \n",
       "2  Because these banks are too big to fail, they ...   \n",
       "3  Because these banks are too big to fail, they ...   \n",
       "4  If you look at the European situation today, f...   \n",
       "\n",
       "                                                 idx label direction source  \\\n",
       "0  {'span1': [[40, 55]], 'span2': [[76, 94]], 'si...     0         1      7   \n",
       "1  {'span1': [[8, 39]], 'span2': [[41, 179]], 'si...     1         0      7   \n",
       "2  {'span1': [[111, 131]], 'span2': [[137, 146]],...     0         1      7   \n",
       "3  {'span1': [[24, 31]], 'span2': [[35, 39]], 'si...     1         0      7   \n",
       "4  {'span1': [[3, 43]], 'span2': [[58, 153]], 'si...     0         0      7   \n",
       "\n",
       "                ann_file split  \n",
       "0  CHRG-111shrg61651.ann        \n",
       "1  CHRG-111shrg61651.ann        \n",
       "2  CHRG-111shrg61651.ann        \n",
       "3  CHRG-111shrg61651.ann        \n",
       "4  CHRG-111shrg61651.ann        "
      ]
     },
     "execution_count": 37,
     "metadata": {},
     "output_type": "execute_result"
    }
   ],
   "source": [
    "data.head()"
   ]
  },
  {
   "cell_type": "code",
   "execution_count": 38,
   "metadata": {
    "pycharm": {
     "name": "#%%\n"
    }
   },
   "outputs": [
    {
     "name": "stdout",
     "output_type": "stream",
     "text": [
      "Avg. length: 32.358024691358025\n",
      "+++++++++++++++\n",
      "min length: 3\n",
      "min context: so why\n",
      "not? \n",
      "+++++++++++++++\n",
      "max length: 84\n",
      "max context: I think this is an important task, and there's a great deal of agreement, that we should be moving to empower the Federal Reserve to have regulatory authority over a wide range of financial institutions in recognition in part of the fact that they have a systemic impact and that the current situation puts the Fed in an untenable position of being given a set of expectations to respond when it doesn't have the full panoply of tools to respond.\n",
      "    \n"
     ]
    }
   ],
   "source": [
    "min_avg_max(data)"
   ]
  },
  {
   "cell_type": "markdown",
   "metadata": {},
   "source": [
    "## Choice of Plausible Alternatives (COPA)"
   ]
  },
  {
   "cell_type": "code",
   "execution_count": 2,
   "metadata": {},
   "outputs": [
    {
     "name": "stdout",
     "output_type": "stream",
     "text": [
      "{'original_id': 1887, 'span1': ['The boy flinched'], 'span2': ['He turned and ran away'], 'signal': [], 'context': 'The boy flinched. He turned and ran away', 'idx': {'span1': [[0, 16]], 'span2': [[18, 39]], 'signal': []}, 'label': 0, 'direction': 1, 'source': 8, 'ann_file': 'BCOPA-CE.xml', 'split': 2}\n",
      "{'original_id': 2387, 'span1': ['The boy flinched'], 'span2': ['He turned and ran away'], 'signal': [], 'context': 'The boy flinched. He turned and ran away', 'idx': {'span1': [[0, 16]], 'span2': [[18, 39]], 'signal': []}, 'label': 1, 'direction': 0, 'source': 8, 'ann_file': 'BCOPA-CE.xml', 'split': 2}\n",
      "samples: 1998\n",
      "mismatch: 2\n",
      "+ causal: 999\n",
      "- non-causal: 999\n"
     ]
    }
   ],
   "source": [
    "data, mis = converter.convert_copa(dataset_code=2)\n",
    "total_samples += len(data)\n",
    "print(\"samples: \" + str(len(data)))\n",
    "print(\"mismatch: \" + str(mis))\n",
    "print(\"+ causal: {}\".format(len(data.loc[data[\"label\"] == 1])))\n",
    "print(\"- non-causal: {}\".format(len(data.loc[data[\"label\"] == 0])))"
   ]
  },
  {
   "cell_type": "code",
   "execution_count": 5,
   "metadata": {},
   "outputs": [
    {
     "data": {
      "text/html": [
       "<div>\n",
       "<style scoped>\n",
       "    .dataframe tbody tr th:only-of-type {\n",
       "        vertical-align: middle;\n",
       "    }\n",
       "\n",
       "    .dataframe tbody tr th {\n",
       "        vertical-align: top;\n",
       "    }\n",
       "\n",
       "    .dataframe thead th {\n",
       "        text-align: right;\n",
       "    }\n",
       "</style>\n",
       "<table border=\"1\" class=\"dataframe\">\n",
       "  <thead>\n",
       "    <tr style=\"text-align: right;\">\n",
       "      <th></th>\n",
       "      <th>original_id</th>\n",
       "      <th>span1</th>\n",
       "      <th>span2</th>\n",
       "      <th>signal</th>\n",
       "      <th>context</th>\n",
       "      <th>idx</th>\n",
       "      <th>label</th>\n",
       "      <th>direction</th>\n",
       "      <th>source</th>\n",
       "      <th>ann_file</th>\n",
       "      <th>split</th>\n",
       "    </tr>\n",
       "  </thead>\n",
       "  <tbody>\n",
       "    <tr>\n",
       "      <th>0</th>\n",
       "      <td>1</td>\n",
       "      <td>[My body cast a shadow over the grass]</td>\n",
       "      <td>[The sun was rising]</td>\n",
       "      <td>[]</td>\n",
       "      <td>My body cast a shadow over the grass. The sun ...</td>\n",
       "      <td>{'span1': [[0, 36]], 'span2': [[38, 56]], 'sig...</td>\n",
       "      <td>1</td>\n",
       "      <td>1</td>\n",
       "      <td>8</td>\n",
       "      <td>copa-dev.xml</td>\n",
       "      <td>1</td>\n",
       "    </tr>\n",
       "    <tr>\n",
       "      <th>1</th>\n",
       "      <td>1</td>\n",
       "      <td>[My body cast a shadow over the grass]</td>\n",
       "      <td>[The grass was cut]</td>\n",
       "      <td>[]</td>\n",
       "      <td>My body cast a shadow over the grass. The gras...</td>\n",
       "      <td>{'span1': [[0, 36]], 'span2': [[38, 55]], 'sig...</td>\n",
       "      <td>0</td>\n",
       "      <td>1</td>\n",
       "      <td>8</td>\n",
       "      <td>copa-dev.xml</td>\n",
       "      <td>1</td>\n",
       "    </tr>\n",
       "    <tr>\n",
       "      <th>2</th>\n",
       "      <td>2</td>\n",
       "      <td>[The woman tolerated her friend's difficult be...</td>\n",
       "      <td>[The woman knew her friend was going through a...</td>\n",
       "      <td>[]</td>\n",
       "      <td>The woman tolerated her friend's difficult beh...</td>\n",
       "      <td>{'span1': [[0, 51]], 'span2': [[53, 108]], 'si...</td>\n",
       "      <td>1</td>\n",
       "      <td>1</td>\n",
       "      <td>8</td>\n",
       "      <td>copa-dev.xml</td>\n",
       "      <td>1</td>\n",
       "    </tr>\n",
       "    <tr>\n",
       "      <th>3</th>\n",
       "      <td>2</td>\n",
       "      <td>[The woman tolerated her friend's difficult be...</td>\n",
       "      <td>[The woman felt that her friend took advantage...</td>\n",
       "      <td>[]</td>\n",
       "      <td>The woman tolerated her friend's difficult beh...</td>\n",
       "      <td>{'span1': [[0, 51]], 'span2': [[53, 114]], 'si...</td>\n",
       "      <td>0</td>\n",
       "      <td>1</td>\n",
       "      <td>8</td>\n",
       "      <td>copa-dev.xml</td>\n",
       "      <td>1</td>\n",
       "    </tr>\n",
       "    <tr>\n",
       "      <th>4</th>\n",
       "      <td>3</td>\n",
       "      <td>[The women met for coffee]</td>\n",
       "      <td>[They wanted to catch up with each other]</td>\n",
       "      <td>[]</td>\n",
       "      <td>The women met for coffee. They wanted to catch...</td>\n",
       "      <td>{'span1': [[0, 24]], 'span2': [[26, 65]], 'sig...</td>\n",
       "      <td>1</td>\n",
       "      <td>1</td>\n",
       "      <td>8</td>\n",
       "      <td>copa-dev.xml</td>\n",
       "      <td>1</td>\n",
       "    </tr>\n",
       "  </tbody>\n",
       "</table>\n",
       "</div>"
      ],
      "text/plain": [
       "  original_id                                              span1  \\\n",
       "0           1             [My body cast a shadow over the grass]   \n",
       "1           1             [My body cast a shadow over the grass]   \n",
       "2           2  [The woman tolerated her friend's difficult be...   \n",
       "3           2  [The woman tolerated her friend's difficult be...   \n",
       "4           3                         [The women met for coffee]   \n",
       "\n",
       "                                               span2 signal  \\\n",
       "0                               [The sun was rising]     []   \n",
       "1                                [The grass was cut]     []   \n",
       "2  [The woman knew her friend was going through a...     []   \n",
       "3  [The woman felt that her friend took advantage...     []   \n",
       "4          [They wanted to catch up with each other]     []   \n",
       "\n",
       "                                             context  \\\n",
       "0  My body cast a shadow over the grass. The sun ...   \n",
       "1  My body cast a shadow over the grass. The gras...   \n",
       "2  The woman tolerated her friend's difficult beh...   \n",
       "3  The woman tolerated her friend's difficult beh...   \n",
       "4  The women met for coffee. They wanted to catch...   \n",
       "\n",
       "                                                 idx label direction source  \\\n",
       "0  {'span1': [[0, 36]], 'span2': [[38, 56]], 'sig...     1         1      8   \n",
       "1  {'span1': [[0, 36]], 'span2': [[38, 55]], 'sig...     0         1      8   \n",
       "2  {'span1': [[0, 51]], 'span2': [[53, 108]], 'si...     1         1      8   \n",
       "3  {'span1': [[0, 51]], 'span2': [[53, 114]], 'si...     0         1      8   \n",
       "4  {'span1': [[0, 24]], 'span2': [[26, 65]], 'sig...     1         1      8   \n",
       "\n",
       "       ann_file split  \n",
       "0  copa-dev.xml     1  \n",
       "1  copa-dev.xml     1  \n",
       "2  copa-dev.xml     1  \n",
       "3  copa-dev.xml     1  \n",
       "4  copa-dev.xml     1  "
      ]
     },
     "execution_count": 5,
     "metadata": {},
     "output_type": "execute_result"
    }
   ],
   "source": [
    "data.head()"
   ]
  },
  {
   "cell_type": "markdown",
   "metadata": {},
   "source": [
    "## Penn Discourse Treebank (PDTB 3.0)"
   ]
  },
  {
   "cell_type": "code",
   "execution_count": 2,
   "metadata": {},
   "outputs": [
    {
     "name": "stdout",
     "output_type": "stream",
     "text": [
      "samples: 7991\n",
      "mismatch: 0\n",
      "+ causal: 7991\n",
      "- non-causal: 0\n"
     ]
    }
   ],
   "source": [
    "data, mis = converter.convert_pdtb3()\n",
    "total_samples += len(data)\n",
    "print(\"samples: \" + str(len(data)))\n",
    "print(\"mismatch: \" + str(mis))\n",
    "print(\"+ causal: {}\".format(len(data.loc[data[\"label\"] == 1])))\n",
    "print(\"- non-causal: {}\".format(len(data.loc[data[\"label\"] == 0])))"
   ]
  },
  {
   "cell_type": "code",
   "execution_count": 3,
   "metadata": {},
   "outputs": [
    {
     "data": {
      "text/html": [
       "<div>\n",
       "<style scoped>\n",
       "    .dataframe tbody tr th:only-of-type {\n",
       "        vertical-align: middle;\n",
       "    }\n",
       "\n",
       "    .dataframe tbody tr th {\n",
       "        vertical-align: top;\n",
       "    }\n",
       "\n",
       "    .dataframe thead th {\n",
       "        text-align: right;\n",
       "    }\n",
       "</style>\n",
       "<table border=\"1\" class=\"dataframe\">\n",
       "  <thead>\n",
       "    <tr style=\"text-align: right;\">\n",
       "      <th></th>\n",
       "      <th>original_id</th>\n",
       "      <th>span1</th>\n",
       "      <th>span2</th>\n",
       "      <th>signal</th>\n",
       "      <th>context</th>\n",
       "      <th>idx</th>\n",
       "      <th>label</th>\n",
       "      <th>direction</th>\n",
       "      <th>source</th>\n",
       "      <th>ann_file</th>\n",
       "      <th>split</th>\n",
       "    </tr>\n",
       "  </thead>\n",
       "  <tbody>\n",
       "    <tr>\n",
       "      <th>0</th>\n",
       "      <td>9</td>\n",
       "      <td>[that 150 million shares of MiniScribe common ...</td>\n",
       "      <td>[there's a tremendous amount of exposure]</td>\n",
       "      <td>[]</td>\n",
       "      <td>Mr. Rifenburgh also noted that 150 million sha...</td>\n",
       "      <td>{'span1': [[26, 116]], 'span2': [[122, 161]], ...</td>\n",
       "      <td>1</td>\n",
       "      <td>0</td>\n",
       "      <td>9</td>\n",
       "      <td></td>\n",
       "      <td>0</td>\n",
       "    </tr>\n",
       "    <tr>\n",
       "      <th>1</th>\n",
       "      <td>20</td>\n",
       "      <td>[but questioning whether the company can survi...</td>\n",
       "      <td>[It's a wait-and-see attitude]</td>\n",
       "      <td>[]</td>\n",
       "      <td>Analysts and consultants had mixed reactions t...</td>\n",
       "      <td>{'span1': [[109, 192]], 'span2': [[195, 223]],...</td>\n",
       "      <td>1</td>\n",
       "      <td>0</td>\n",
       "      <td>9</td>\n",
       "      <td></td>\n",
       "      <td>0</td>\n",
       "    </tr>\n",
       "    <tr>\n",
       "      <th>2</th>\n",
       "      <td>39</td>\n",
       "      <td>[At first glance, gold and utilities seem stra...</td>\n",
       "      <td>[After all, gold prices usually soar when infl...</td>\n",
       "      <td>[]</td>\n",
       "      <td>At first glance, gold and utilities seem stran...</td>\n",
       "      <td>{'span1': [[0, 59]], 'span2': [[61, 119]], 'si...</td>\n",
       "      <td>1</td>\n",
       "      <td>1</td>\n",
       "      <td>9</td>\n",
       "      <td></td>\n",
       "      <td>0</td>\n",
       "    </tr>\n",
       "    <tr>\n",
       "      <th>3</th>\n",
       "      <td>42</td>\n",
       "      <td>[Utility stocks, on the other hand, thrive on ...</td>\n",
       "      <td>[the fat dividends utilities pay look more att...</td>\n",
       "      <td>[]</td>\n",
       "      <td>Utility stocks, on the other hand, thrive on d...</td>\n",
       "      <td>{'span1': [[0, 57]], 'span2': [[67, 162]], 'si...</td>\n",
       "      <td>1</td>\n",
       "      <td>1</td>\n",
       "      <td>9</td>\n",
       "      <td></td>\n",
       "      <td>0</td>\n",
       "    </tr>\n",
       "    <tr>\n",
       "      <th>4</th>\n",
       "      <td>46</td>\n",
       "      <td>[But the two groups have something very import...</td>\n",
       "      <td>[It's as if investors, the past few days, are ...</td>\n",
       "      <td>[]</td>\n",
       "      <td>But the two groups have something very importa...</td>\n",
       "      <td>{'span1': [[0, 132]], 'span2': [[134, 254]], '...</td>\n",
       "      <td>1</td>\n",
       "      <td>0</td>\n",
       "      <td>9</td>\n",
       "      <td></td>\n",
       "      <td>0</td>\n",
       "    </tr>\n",
       "  </tbody>\n",
       "</table>\n",
       "</div>"
      ],
      "text/plain": [
       "  original_id                                              span1  \\\n",
       "0           9  [that 150 million shares of MiniScribe common ...   \n",
       "1          20  [but questioning whether the company can survi...   \n",
       "2          39  [At first glance, gold and utilities seem stra...   \n",
       "3          42  [Utility stocks, on the other hand, thrive on ...   \n",
       "4          46  [But the two groups have something very import...   \n",
       "\n",
       "                                               span2 signal  \\\n",
       "0          [there's a tremendous amount of exposure]     []   \n",
       "1                     [It's a wait-and-see attitude]     []   \n",
       "2  [After all, gold prices usually soar when infl...     []   \n",
       "3  [the fat dividends utilities pay look more att...     []   \n",
       "4  [It's as if investors, the past few days, are ...     []   \n",
       "\n",
       "                                             context  \\\n",
       "0  Mr. Rifenburgh also noted that 150 million sha...   \n",
       "1  Analysts and consultants had mixed reactions t...   \n",
       "2  At first glance, gold and utilities seem stran...   \n",
       "3  Utility stocks, on the other hand, thrive on d...   \n",
       "4  But the two groups have something very importa...   \n",
       "\n",
       "                                                 idx label direction source  \\\n",
       "0  {'span1': [[26, 116]], 'span2': [[122, 161]], ...     1         0      9   \n",
       "1  {'span1': [[109, 192]], 'span2': [[195, 223]],...     1         0      9   \n",
       "2  {'span1': [[0, 59]], 'span2': [[61, 119]], 'si...     1         1      9   \n",
       "3  {'span1': [[0, 57]], 'span2': [[67, 162]], 'si...     1         1      9   \n",
       "4  {'span1': [[0, 132]], 'span2': [[134, 254]], '...     1         0      9   \n",
       "\n",
       "  ann_file split  \n",
       "0              0  \n",
       "1              0  \n",
       "2              0  \n",
       "3              0  \n",
       "4              0  "
      ]
     },
     "execution_count": 3,
     "metadata": {},
     "output_type": "execute_result"
    }
   ],
   "source": [
    "data.head()"
   ]
  },
  {
   "cell_type": "markdown",
   "metadata": {},
   "source": [
    "## BioCause"
   ]
  },
  {
   "cell_type": "code",
   "execution_count": 2,
   "metadata": {},
   "outputs": [
    {
     "name": "stdout",
     "output_type": "stream",
     "text": [
      "[crest-log] Error in converting BioCause. Detail: \n",
      "samples: 844\n",
      "mismatch: 0\n",
      "+ causal: 844\n",
      "- non-causal: 0\n"
     ]
    }
   ],
   "source": [
    "data, mis = converter.convert_biocause()\n",
    "total_samples += len(data)\n",
    "print(\"samples: \" + str(len(data)))\n",
    "print(\"mismatch: \" + str(mis))\n",
    "print(\"+ causal: {}\".format(len(data.loc[data[\"label\"] == 1])))\n",
    "print(\"- non-causal: {}\".format(len(data.loc[data[\"label\"] == 0])))"
   ]
  },
  {
   "cell_type": "code",
   "execution_count": 3,
   "metadata": {},
   "outputs": [
    {
     "data": {
      "text/html": [
       "<div>\n",
       "<style scoped>\n",
       "    .dataframe tbody tr th:only-of-type {\n",
       "        vertical-align: middle;\n",
       "    }\n",
       "\n",
       "    .dataframe tbody tr th {\n",
       "        vertical-align: top;\n",
       "    }\n",
       "\n",
       "    .dataframe thead th {\n",
       "        text-align: right;\n",
       "    }\n",
       "</style>\n",
       "<table border=\"1\" class=\"dataframe\">\n",
       "  <thead>\n",
       "    <tr style=\"text-align: right;\">\n",
       "      <th></th>\n",
       "      <th>original_id</th>\n",
       "      <th>span1</th>\n",
       "      <th>span2</th>\n",
       "      <th>signal</th>\n",
       "      <th>context</th>\n",
       "      <th>idx</th>\n",
       "      <th>label</th>\n",
       "      <th>direction</th>\n",
       "      <th>source</th>\n",
       "      <th>ann_file</th>\n",
       "      <th>split</th>\n",
       "    </tr>\n",
       "  </thead>\n",
       "  <tbody>\n",
       "    <tr>\n",
       "      <th>0</th>\n",
       "      <td></td>\n",
       "      <td>[Each paired reaction set (TB/PA14) resulted i...</td>\n",
       "      <td>[there is little difference between the two is...</td>\n",
       "      <td>[These results show that]</td>\n",
       "      <td>Characterization of the cheB2 Mutant \\nWe chos...</td>\n",
       "      <td>{'span1': [[836, 954]], 'span2': [[997, 1131]]...</td>\n",
       "      <td>1</td>\n",
       "      <td>0</td>\n",
       "      <td>10</td>\n",
       "      <td>PMC2714965-02-Results-05.ann</td>\n",
       "      <td>0</td>\n",
       "    </tr>\n",
       "    <tr>\n",
       "      <th>1</th>\n",
       "      <td></td>\n",
       "      <td>[As shown in Figure 3A, the newly engineered c...</td>\n",
       "      <td>[a delayed C. elegans killing comparable to th...</td>\n",
       "      <td>[showed]</td>\n",
       "      <td>Characterization of the cheB2 Mutant \\nWe chos...</td>\n",
       "      <td>{'span1': [[1377, 1467]], 'span2': [[1468, 155...</td>\n",
       "      <td>1</td>\n",
       "      <td>0</td>\n",
       "      <td>10</td>\n",
       "      <td>PMC2714965-02-Results-05.ann</td>\n",
       "      <td>0</td>\n",
       "    </tr>\n",
       "    <tr>\n",
       "      <th>2</th>\n",
       "      <td></td>\n",
       "      <td>[In addition, we engineered a similar cheB2 mu...</td>\n",
       "      <td>[the virulence phenotype of a cheB2 mutant and...</td>\n",
       "      <td>[This further confirmed]</td>\n",
       "      <td>Characterization of the cheB2 Mutant \\nWe chos...</td>\n",
       "      <td>{'span1': [[1692, 1882]], 'span2': [[1919, 201...</td>\n",
       "      <td>1</td>\n",
       "      <td>0</td>\n",
       "      <td>10</td>\n",
       "      <td>PMC2714965-02-Results-05.ann</td>\n",
       "      <td>0</td>\n",
       "    </tr>\n",
       "  </tbody>\n",
       "</table>\n",
       "</div>"
      ],
      "text/plain": [
       "  original_id                                              span1  \\\n",
       "0              [Each paired reaction set (TB/PA14) resulted i...   \n",
       "1              [As shown in Figure 3A, the newly engineered c...   \n",
       "2              [In addition, we engineered a similar cheB2 mu...   \n",
       "\n",
       "                                               span2  \\\n",
       "0  [there is little difference between the two is...   \n",
       "1  [a delayed C. elegans killing comparable to th...   \n",
       "2  [the virulence phenotype of a cheB2 mutant and...   \n",
       "\n",
       "                      signal  \\\n",
       "0  [These results show that]   \n",
       "1                   [showed]   \n",
       "2   [This further confirmed]   \n",
       "\n",
       "                                             context  \\\n",
       "0  Characterization of the cheB2 Mutant \\nWe chos...   \n",
       "1  Characterization of the cheB2 Mutant \\nWe chos...   \n",
       "2  Characterization of the cheB2 Mutant \\nWe chos...   \n",
       "\n",
       "                                                 idx label direction source  \\\n",
       "0  {'span1': [[836, 954]], 'span2': [[997, 1131]]...     1         0     10   \n",
       "1  {'span1': [[1377, 1467]], 'span2': [[1468, 155...     1         0     10   \n",
       "2  {'span1': [[1692, 1882]], 'span2': [[1919, 201...     1         0     10   \n",
       "\n",
       "                       ann_file split  \n",
       "0  PMC2714965-02-Results-05.ann     0  \n",
       "1  PMC2714965-02-Results-05.ann     0  \n",
       "2  PMC2714965-02-Results-05.ann     0  "
      ]
     },
     "execution_count": 3,
     "metadata": {},
     "output_type": "execute_result"
    }
   ],
   "source": [
    "data.head(3)"
   ]
  },
  {
   "cell_type": "code",
   "execution_count": 8,
   "metadata": {},
   "outputs": [],
   "source": [
    "for idx, row in data.iterrows():\n",
    "    data.iloc[idx]['original_id'] = idx"
   ]
  },
  {
   "cell_type": "code",
   "execution_count": 10,
   "metadata": {},
   "outputs": [],
   "source": [
    "crest2brat(data, 'biocause')"
   ]
  },
  {
   "cell_type": "code",
   "execution_count": null,
   "metadata": {},
   "outputs": [],
   "source": []
  }
 ],
 "metadata": {
  "kernelspec": {
   "display_name": "Python 3",
   "language": "python",
   "name": "python3"
  },
  "language_info": {
   "codemirror_mode": {
    "name": "ipython",
    "version": 3
   },
   "file_extension": ".py",
   "mimetype": "text/x-python",
   "name": "python",
   "nbconvert_exporter": "python",
   "pygments_lexer": "ipython3",
   "version": "3.7.9"
  },
  "pycharm": {
   "stem_cell": {
    "cell_type": "raw",
    "metadata": {
     "collapsed": false
    },
    "source": []
   }
  }
 },
 "nbformat": 4,
 "nbformat_minor": 1
}
