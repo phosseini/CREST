{
 "cells": [
  {
   "cell_type": "markdown",
   "metadata": {},
   "source": [
    "## `CREST2BRAT` and `BRAT2CREST`\n",
    "BRAT is a web-based text annotation tool that has been popular across many NLP tasks. In particular, it's a suitable tool for annotating relations in text. We use BRAT here mainly for two reasons: 1) better visualization of samples in CREST, and 2) making revisions or adding new annotations easier. More information about BRAT can be found here: https://brat.nlplab.org/index.html"
   ]
  },
  {
   "cell_type": "code",
   "execution_count": 1,
   "metadata": {},
   "outputs": [],
   "source": [
    "import os\n",
    "import sys\n",
    "\n",
    "root_path = os.path.abspath(os.path.join(os.path.dirname(\"__file__\"), '..'))\n",
    "sys.path.insert(0, root_path)\n",
    "\n",
    "from crest import converter"
   ]
  },
  {
   "cell_type": "markdown",
   "metadata": {},
   "source": [
    "### CREST2BRAT\n",
    "To convert a CREST-formatted data to BRAT, first we need to actually have a CREST-formatted data stored an excel file or data frame. A full list of examples of converting different datasets to CREST are provided [here](https://github.com/phosseini/CREST/blob/master/notebooks/converter_demo.ipynb). But for showing how the BRAT-related conversion works, we convert a dataset to CREST here too."
   ]
  },
  {
   "cell_type": "code",
   "execution_count": 2,
   "metadata": {},
   "outputs": [],
   "source": [
    "crest_file_path='../data/crest_sample.xlsx'\n",
    "brat_folder_path = '../data/crest_brat/1'\n",
    "\n",
    "# converting the semeval 2007 dataset to a CREST-formatted data frame\n",
    "df, mis = converter.Converter().convert_semeval_2007_4()\n",
    "\n",
    "# getting a smaller sample\n",
    "df = df[:50]\n",
    "\n",
    "# storing the data frame as an excel file (we need this file when converting data back from BRAT to CREST to read some fields)\n",
    "df.to_excel(crest_file_path)\n",
    "\n",
    "# now, converting the CREST-formatted data to BRAT\n",
    "converter.crest2brat(df, brat_folder_path)"
   ]
  },
  {
   "cell_type": "markdown",
   "metadata": {},
   "source": [
    "### BRAT2CREST"
   ]
  },
  {
   "cell_type": "markdown",
   "metadata": {},
   "source": [
    "After converting CREST to BRAT, we can see samples or visualize them in BRAT (check the BRAT instruction for how to run the BRAT server) and make changes to annotations, if any. Once done with changes, we can simply use the following method, to convert samples from BRAT back to CREST. Changes will be saved in the same excel file of CREST-formatted data."
   ]
  },
  {
   "cell_type": "code",
   "execution_count": 4,
   "metadata": {},
   "outputs": [],
   "source": [
    "# converting BRAT back to CREST-formatted data\n",
    "converter.brat2crest(brat_folder_path, crest_file_path)"
   ]
  }
 ],
 "metadata": {
  "kernelspec": {
   "display_name": "Python [conda env:crest-env] *",
   "language": "python",
   "name": "conda-env-crest-env-py"
  },
  "language_info": {
   "codemirror_mode": {
    "name": "ipython",
    "version": 3
   },
   "file_extension": ".py",
   "mimetype": "text/x-python",
   "name": "python",
   "nbconvert_exporter": "python",
   "pygments_lexer": "ipython3",
   "version": "3.6.10"
  }
 },
 "nbformat": 4,
 "nbformat_minor": 4
}
